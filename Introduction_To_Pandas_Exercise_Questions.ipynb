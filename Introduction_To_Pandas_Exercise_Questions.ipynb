{
 "cells": [
  {
   "cell_type": "code",
   "execution_count": 2,
   "id": "9a9bcab3",
   "metadata": {},
   "outputs": [],
   "source": [
    "## Questions:\n",
    "\n",
    "## 1. Create and display a pandas series containing the first 5 prime numbers\n",
    "## 2. Create two series of first 5 prime numbers and first 5 composite numbers respectively, and perform multiplication on both\n",
    "## 3. Retrieve the 3rd and 4th series elements from the composite number series created in the previous question\n",
    "## 4. Add the composite number series created to the prime number series\n",
    "## 5. From the prime number series created in Q1, remove the even prime number\n",
    "## 6. Create a dataframe of five employees with their monthly salary from a dictionary of lists\n",
    "## 7. From the employee dataframe created in Q6, extract the salary column alone\n",
    "## 8. Revise the column names of the employee dataframe to \"First_Name\" and \"Monthly_Salary\"\n",
    "## 9. Read the csv file called \"starbucks_final\" into a pandas dataframe, and display the first five records\n",
    "## 10. Print the descriptive statistics of the starbucks dataframe\n",
    "## 11. Change the data type of \"Fat\" column from float to int\n",
    "## 12. Retrieve the 5th record pertaining to the \"Fiber\" column alone the starbucks dataframe"
   ]
  }
 ],
 "metadata": {
  "kernelspec": {
   "display_name": "Python 3 (ipykernel)",
   "language": "python",
   "name": "python3"
  },
  "language_info": {
   "codemirror_mode": {
    "name": "ipython",
    "version": 3
   },
   "file_extension": ".py",
   "mimetype": "text/x-python",
   "name": "python",
   "nbconvert_exporter": "python",
   "pygments_lexer": "ipython3",
   "version": "3.8.11"
  }
 },
 "nbformat": 4,
 "nbformat_minor": 5
}
