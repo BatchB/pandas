{
 "cells": [
  {
   "cell_type": "code",
   "execution_count": 1,
   "id": "b22a821e",
   "metadata": {},
   "outputs": [],
   "source": [
    "import pandas as pd\n",
    "import numpy as np\n",
    "import matplotlib.pyplot as plt\n",
    "import seaborn as sns\n",
    "from sklearn.preprocessing import StandardScaler\n",
    "from sklearn.decomposition import PCA"
   ]
  },
  {
   "cell_type": "code",
   "execution_count": 3,
   "id": "211aeb5a",
   "metadata": {},
   "outputs": [
    {
     "data": {
      "text/html": [
       "<div>\n",
       "<style scoped>\n",
       "    .dataframe tbody tr th:only-of-type {\n",
       "        vertical-align: middle;\n",
       "    }\n",
       "\n",
       "    .dataframe tbody tr th {\n",
       "        vertical-align: top;\n",
       "    }\n",
       "\n",
       "    .dataframe thead th {\n",
       "        text-align: right;\n",
       "    }\n",
       "</style>\n",
       "<table border=\"1\" class=\"dataframe\">\n",
       "  <thead>\n",
       "    <tr style=\"text-align: right;\">\n",
       "      <th></th>\n",
       "      <th>country</th>\n",
       "      <th>child_mort</th>\n",
       "      <th>exports</th>\n",
       "      <th>health</th>\n",
       "      <th>imports</th>\n",
       "      <th>income</th>\n",
       "      <th>inflation</th>\n",
       "      <th>life_expec</th>\n",
       "      <th>total_fer</th>\n",
       "      <th>gdpp</th>\n",
       "    </tr>\n",
       "  </thead>\n",
       "  <tbody>\n",
       "    <tr>\n",
       "      <th>0</th>\n",
       "      <td>Afghanistan</td>\n",
       "      <td>90.2</td>\n",
       "      <td>10.0</td>\n",
       "      <td>7.58</td>\n",
       "      <td>44.9</td>\n",
       "      <td>1610</td>\n",
       "      <td>9.44</td>\n",
       "      <td>56.2</td>\n",
       "      <td>5.82</td>\n",
       "      <td>553</td>\n",
       "    </tr>\n",
       "    <tr>\n",
       "      <th>1</th>\n",
       "      <td>Albania</td>\n",
       "      <td>16.6</td>\n",
       "      <td>28.0</td>\n",
       "      <td>6.55</td>\n",
       "      <td>48.6</td>\n",
       "      <td>9930</td>\n",
       "      <td>4.49</td>\n",
       "      <td>76.3</td>\n",
       "      <td>1.65</td>\n",
       "      <td>4090</td>\n",
       "    </tr>\n",
       "    <tr>\n",
       "      <th>2</th>\n",
       "      <td>Algeria</td>\n",
       "      <td>27.3</td>\n",
       "      <td>38.4</td>\n",
       "      <td>4.17</td>\n",
       "      <td>31.4</td>\n",
       "      <td>12900</td>\n",
       "      <td>16.10</td>\n",
       "      <td>76.5</td>\n",
       "      <td>2.89</td>\n",
       "      <td>4460</td>\n",
       "    </tr>\n",
       "    <tr>\n",
       "      <th>3</th>\n",
       "      <td>Angola</td>\n",
       "      <td>119.0</td>\n",
       "      <td>62.3</td>\n",
       "      <td>2.85</td>\n",
       "      <td>42.9</td>\n",
       "      <td>5900</td>\n",
       "      <td>22.40</td>\n",
       "      <td>60.1</td>\n",
       "      <td>6.16</td>\n",
       "      <td>3530</td>\n",
       "    </tr>\n",
       "    <tr>\n",
       "      <th>4</th>\n",
       "      <td>Antigua and Barbuda</td>\n",
       "      <td>10.3</td>\n",
       "      <td>45.5</td>\n",
       "      <td>6.03</td>\n",
       "      <td>58.9</td>\n",
       "      <td>19100</td>\n",
       "      <td>1.44</td>\n",
       "      <td>76.8</td>\n",
       "      <td>2.13</td>\n",
       "      <td>12200</td>\n",
       "    </tr>\n",
       "  </tbody>\n",
       "</table>\n",
       "</div>"
      ],
      "text/plain": [
       "               country  child_mort  exports  health  imports  income  \\\n",
       "0          Afghanistan        90.2     10.0    7.58     44.9    1610   \n",
       "1              Albania        16.6     28.0    6.55     48.6    9930   \n",
       "2              Algeria        27.3     38.4    4.17     31.4   12900   \n",
       "3               Angola       119.0     62.3    2.85     42.9    5900   \n",
       "4  Antigua and Barbuda        10.3     45.5    6.03     58.9   19100   \n",
       "\n",
       "   inflation  life_expec  total_fer   gdpp  \n",
       "0       9.44        56.2       5.82    553  \n",
       "1       4.49        76.3       1.65   4090  \n",
       "2      16.10        76.5       2.89   4460  \n",
       "3      22.40        60.1       6.16   3530  \n",
       "4       1.44        76.8       2.13  12200  "
      ]
     },
     "execution_count": 3,
     "metadata": {},
     "output_type": "execute_result"
    }
   ],
   "source": [
    "df = pd.read_csv(\"Country-data.csv\")\n",
    "df.head()"
   ]
  },
  {
   "cell_type": "code",
   "execution_count": 4,
   "id": "d498fc28",
   "metadata": {},
   "outputs": [
    {
     "data": {
      "text/html": [
       "<div>\n",
       "<style scoped>\n",
       "    .dataframe tbody tr th:only-of-type {\n",
       "        vertical-align: middle;\n",
       "    }\n",
       "\n",
       "    .dataframe tbody tr th {\n",
       "        vertical-align: top;\n",
       "    }\n",
       "\n",
       "    .dataframe thead th {\n",
       "        text-align: right;\n",
       "    }\n",
       "</style>\n",
       "<table border=\"1\" class=\"dataframe\">\n",
       "  <thead>\n",
       "    <tr style=\"text-align: right;\">\n",
       "      <th></th>\n",
       "      <th>Column Name</th>\n",
       "      <th>Description</th>\n",
       "    </tr>\n",
       "  </thead>\n",
       "  <tbody>\n",
       "    <tr>\n",
       "      <th>0</th>\n",
       "      <td>country</td>\n",
       "      <td>Name of the country</td>\n",
       "    </tr>\n",
       "    <tr>\n",
       "      <th>1</th>\n",
       "      <td>child_mort</td>\n",
       "      <td>Death of children under 5 years of age per 100...</td>\n",
       "    </tr>\n",
       "    <tr>\n",
       "      <th>2</th>\n",
       "      <td>exports</td>\n",
       "      <td>Exports of goods and services. Given as %age o...</td>\n",
       "    </tr>\n",
       "    <tr>\n",
       "      <th>3</th>\n",
       "      <td>health</td>\n",
       "      <td>Total health spending as %age of Total GDP</td>\n",
       "    </tr>\n",
       "    <tr>\n",
       "      <th>4</th>\n",
       "      <td>imports</td>\n",
       "      <td>Imports of goods and services. Given as %age o...</td>\n",
       "    </tr>\n",
       "    <tr>\n",
       "      <th>5</th>\n",
       "      <td>Income</td>\n",
       "      <td>Net income per person</td>\n",
       "    </tr>\n",
       "    <tr>\n",
       "      <th>6</th>\n",
       "      <td>Inflation</td>\n",
       "      <td>The measurement of the annual growth rate of t...</td>\n",
       "    </tr>\n",
       "    <tr>\n",
       "      <th>7</th>\n",
       "      <td>life_expec</td>\n",
       "      <td>The average number of years a new born child w...</td>\n",
       "    </tr>\n",
       "    <tr>\n",
       "      <th>8</th>\n",
       "      <td>total_fer</td>\n",
       "      <td>The number of children that would be born to e...</td>\n",
       "    </tr>\n",
       "    <tr>\n",
       "      <th>9</th>\n",
       "      <td>gdpp</td>\n",
       "      <td>The GDP per capita. Calculated as the Total GD...</td>\n",
       "    </tr>\n",
       "  </tbody>\n",
       "</table>\n",
       "</div>"
      ],
      "text/plain": [
       "  Column Name                                        Description\n",
       "0     country                                Name of the country\n",
       "1  child_mort  Death of children under 5 years of age per 100...\n",
       "2     exports  Exports of goods and services. Given as %age o...\n",
       "3      health         Total health spending as %age of Total GDP\n",
       "4     imports  Imports of goods and services. Given as %age o...\n",
       "5      Income                              Net income per person\n",
       "6   Inflation  The measurement of the annual growth rate of t...\n",
       "7  life_expec  The average number of years a new born child w...\n",
       "8   total_fer  The number of children that would be born to e...\n",
       "9        gdpp  The GDP per capita. Calculated as the Total GD..."
      ]
     },
     "execution_count": 4,
     "metadata": {},
     "output_type": "execute_result"
    }
   ],
   "source": [
    "pd.read_csv(\"data-dictionary.csv\")"
   ]
  },
  {
   "cell_type": "code",
   "execution_count": 5,
   "id": "e7e98edd",
   "metadata": {},
   "outputs": [
    {
     "data": {
      "text/plain": [
       "country       0\n",
       "child_mort    0\n",
       "exports       0\n",
       "health        0\n",
       "imports       0\n",
       "income        0\n",
       "inflation     0\n",
       "life_expec    0\n",
       "total_fer     0\n",
       "gdpp          0\n",
       "dtype: int64"
      ]
     },
     "execution_count": 5,
     "metadata": {},
     "output_type": "execute_result"
    }
   ],
   "source": [
    "df.isnull().sum()"
   ]
  },
  {
   "cell_type": "code",
   "execution_count": 6,
   "id": "95a9d62a",
   "metadata": {},
   "outputs": [
    {
     "data": {
      "text/plain": [
       "(167, 10)"
      ]
     },
     "execution_count": 6,
     "metadata": {},
     "output_type": "execute_result"
    }
   ],
   "source": [
    "df.shape"
   ]
  },
  {
   "cell_type": "code",
   "execution_count": 7,
   "id": "02d39da8",
   "metadata": {},
   "outputs": [],
   "source": [
    "df['exports'] = df['exports']*df['gdpp']/100\n",
    "df['imports'] = df['imports']*df['gdpp']/100\n",
    "df['health'] = df['health']*df['gdpp']/100"
   ]
  },
  {
   "cell_type": "code",
   "execution_count": 8,
   "id": "9a6a0bfc",
   "metadata": {},
   "outputs": [
    {
     "data": {
      "text/plain": [
       "<AxesSubplot:>"
      ]
     },
     "execution_count": 8,
     "metadata": {},
     "output_type": "execute_result"
    },
    {
     "data": {
      "image/png": "[encoded data removed]",
      "text/plain": [
       "<Figure size 432x288 with 2 Axes>"
      ]
     },
     "metadata": {
      "needs_background": "light"
     },
     "output_type": "display_data"
    }
   ],
   "source": [
    "sns.heatmap(df.corr(),annot=True)"
   ]
  },
  {
   "cell_type": "code",
   "execution_count": 9,
   "id": "f429c1a3",
   "metadata": {},
   "outputs": [],
   "source": [
    "df1 = df.copy()\n",
    "country = df['country']"
   ]
  },
  {
   "cell_type": "code",
   "execution_count": 10,
   "id": "f56a0e7e",
   "metadata": {},
   "outputs": [],
   "source": [
    "df1.drop('country',inplace=True,axis=1)"
   ]
  },
  {
   "cell_type": "code",
   "execution_count": 11,
   "id": "fb28f1db",
   "metadata": {},
   "outputs": [
    {
     "data": {
      "text/html": [
       "<div>\n",
       "<style scoped>\n",
       "    .dataframe tbody tr th:only-of-type {\n",
       "        vertical-align: middle;\n",
       "    }\n",
       "\n",
       "    .dataframe tbody tr th {\n",
       "        vertical-align: top;\n",
       "    }\n",
       "\n",
       "    .dataframe thead th {\n",
       "        text-align: right;\n",
       "    }\n",
       "</style>\n",
       "<table border=\"1\" class=\"dataframe\">\n",
       "  <thead>\n",
       "    <tr style=\"text-align: right;\">\n",
       "      <th></th>\n",
       "      <th>child_mort</th>\n",
       "      <th>exports</th>\n",
       "      <th>health</th>\n",
       "      <th>imports</th>\n",
       "      <th>income</th>\n",
       "      <th>inflation</th>\n",
       "      <th>life_expec</th>\n",
       "      <th>total_fer</th>\n",
       "      <th>gdpp</th>\n",
       "    </tr>\n",
       "  </thead>\n",
       "  <tbody>\n",
       "    <tr>\n",
       "      <th>0</th>\n",
       "      <td>90.2</td>\n",
       "      <td>55.30</td>\n",
       "      <td>41.9174</td>\n",
       "      <td>248.297</td>\n",
       "      <td>1610</td>\n",
       "      <td>9.44</td>\n",
       "      <td>56.2</td>\n",
       "      <td>5.82</td>\n",
       "      <td>553</td>\n",
       "    </tr>\n",
       "    <tr>\n",
       "      <th>1</th>\n",
       "      <td>16.6</td>\n",
       "      <td>1145.20</td>\n",
       "      <td>267.8950</td>\n",
       "      <td>1987.740</td>\n",
       "      <td>9930</td>\n",
       "      <td>4.49</td>\n",
       "      <td>76.3</td>\n",
       "      <td>1.65</td>\n",
       "      <td>4090</td>\n",
       "    </tr>\n",
       "    <tr>\n",
       "      <th>2</th>\n",
       "      <td>27.3</td>\n",
       "      <td>1712.64</td>\n",
       "      <td>185.9820</td>\n",
       "      <td>1400.440</td>\n",
       "      <td>12900</td>\n",
       "      <td>16.10</td>\n",
       "      <td>76.5</td>\n",
       "      <td>2.89</td>\n",
       "      <td>4460</td>\n",
       "    </tr>\n",
       "    <tr>\n",
       "      <th>3</th>\n",
       "      <td>119.0</td>\n",
       "      <td>2199.19</td>\n",
       "      <td>100.6050</td>\n",
       "      <td>1514.370</td>\n",
       "      <td>5900</td>\n",
       "      <td>22.40</td>\n",
       "      <td>60.1</td>\n",
       "      <td>6.16</td>\n",
       "      <td>3530</td>\n",
       "    </tr>\n",
       "    <tr>\n",
       "      <th>4</th>\n",
       "      <td>10.3</td>\n",
       "      <td>5551.00</td>\n",
       "      <td>735.6600</td>\n",
       "      <td>7185.800</td>\n",
       "      <td>19100</td>\n",
       "      <td>1.44</td>\n",
       "      <td>76.8</td>\n",
       "      <td>2.13</td>\n",
       "      <td>12200</td>\n",
       "    </tr>\n",
       "  </tbody>\n",
       "</table>\n",
       "</div>"
      ],
      "text/plain": [
       "   child_mort  exports    health   imports  income  inflation  life_expec  \\\n",
       "0        90.2    55.30   41.9174   248.297    1610       9.44        56.2   \n",
       "1        16.6  1145.20  267.8950  1987.740    9930       4.49        76.3   \n",
       "2        27.3  1712.64  185.9820  1400.440   12900      16.10        76.5   \n",
       "3       119.0  2199.19  100.6050  1514.370    5900      22.40        60.1   \n",
       "4        10.3  5551.00  735.6600  7185.800   19100       1.44        76.8   \n",
       "\n",
       "   total_fer   gdpp  \n",
       "0       5.82    553  \n",
       "1       1.65   4090  \n",
       "2       2.89   4460  \n",
       "3       6.16   3530  \n",
       "4       2.13  12200  "
      ]
     },
     "execution_count": 11,
     "metadata": {},
     "output_type": "execute_result"
    }
   ],
   "source": [
    "df1.head()"
   ]
  },
  {
   "cell_type": "code",
   "execution_count": 12,
   "id": "21d96864",
   "metadata": {},
   "outputs": [
    {
     "data": {
      "text/html": [
       "<div>\n",
       "<style scoped>\n",
       "    .dataframe tbody tr th:only-of-type {\n",
       "        vertical-align: middle;\n",
       "    }\n",
       "\n",
       "    .dataframe tbody tr th {\n",
       "        vertical-align: top;\n",
       "    }\n",
       "\n",
       "    .dataframe thead th {\n",
       "        text-align: right;\n",
       "    }\n",
       "</style>\n",
       "<table border=\"1\" class=\"dataframe\">\n",
       "  <thead>\n",
       "    <tr style=\"text-align: right;\">\n",
       "      <th></th>\n",
       "      <th>child_mort</th>\n",
       "      <th>exports</th>\n",
       "      <th>health</th>\n",
       "      <th>imports</th>\n",
       "      <th>income</th>\n",
       "      <th>inflation</th>\n",
       "      <th>life_expec</th>\n",
       "      <th>total_fer</th>\n",
       "      <th>gdpp</th>\n",
       "    </tr>\n",
       "  </thead>\n",
       "  <tbody>\n",
       "    <tr>\n",
       "      <th>0</th>\n",
       "      <td>1.291532</td>\n",
       "      <td>-0.411011</td>\n",
       "      <td>-0.565040</td>\n",
       "      <td>-0.432276</td>\n",
       "      <td>-0.808245</td>\n",
       "      <td>0.157336</td>\n",
       "      <td>-1.619092</td>\n",
       "      <td>1.902882</td>\n",
       "      <td>-0.679180</td>\n",
       "    </tr>\n",
       "    <tr>\n",
       "      <th>1</th>\n",
       "      <td>-0.538949</td>\n",
       "      <td>-0.350191</td>\n",
       "      <td>-0.439218</td>\n",
       "      <td>-0.313677</td>\n",
       "      <td>-0.375369</td>\n",
       "      <td>-0.312347</td>\n",
       "      <td>0.647866</td>\n",
       "      <td>-0.859973</td>\n",
       "      <td>-0.485623</td>\n",
       "    </tr>\n",
       "    <tr>\n",
       "      <th>2</th>\n",
       "      <td>-0.272833</td>\n",
       "      <td>-0.318526</td>\n",
       "      <td>-0.484826</td>\n",
       "      <td>-0.353720</td>\n",
       "      <td>-0.220844</td>\n",
       "      <td>0.789274</td>\n",
       "      <td>0.670423</td>\n",
       "      <td>-0.038404</td>\n",
       "      <td>-0.465376</td>\n",
       "    </tr>\n",
       "    <tr>\n",
       "      <th>3</th>\n",
       "      <td>2.007808</td>\n",
       "      <td>-0.291375</td>\n",
       "      <td>-0.532363</td>\n",
       "      <td>-0.345953</td>\n",
       "      <td>-0.585043</td>\n",
       "      <td>1.387054</td>\n",
       "      <td>-1.179234</td>\n",
       "      <td>2.128151</td>\n",
       "      <td>-0.516268</td>\n",
       "    </tr>\n",
       "    <tr>\n",
       "      <th>4</th>\n",
       "      <td>-0.695634</td>\n",
       "      <td>-0.104331</td>\n",
       "      <td>-0.178771</td>\n",
       "      <td>0.040735</td>\n",
       "      <td>0.101732</td>\n",
       "      <td>-0.601749</td>\n",
       "      <td>0.704258</td>\n",
       "      <td>-0.541946</td>\n",
       "      <td>-0.041817</td>\n",
       "    </tr>\n",
       "    <tr>\n",
       "      <th>...</th>\n",
       "      <td>...</td>\n",
       "      <td>...</td>\n",
       "      <td>...</td>\n",
       "      <td>...</td>\n",
       "      <td>...</td>\n",
       "      <td>...</td>\n",
       "      <td>...</td>\n",
       "      <td>...</td>\n",
       "      <td>...</td>\n",
       "    </tr>\n",
       "    <tr>\n",
       "      <th>162</th>\n",
       "      <td>-0.225578</td>\n",
       "      <td>-0.336864</td>\n",
       "      <td>-0.501562</td>\n",
       "      <td>-0.342488</td>\n",
       "      <td>-0.738527</td>\n",
       "      <td>-0.489784</td>\n",
       "      <td>-0.852161</td>\n",
       "      <td>0.365754</td>\n",
       "      <td>-0.546913</td>\n",
       "    </tr>\n",
       "    <tr>\n",
       "      <th>163</th>\n",
       "      <td>-0.526514</td>\n",
       "      <td>-0.199393</td>\n",
       "      <td>-0.219310</td>\n",
       "      <td>-0.287205</td>\n",
       "      <td>-0.033542</td>\n",
       "      <td>3.616865</td>\n",
       "      <td>0.546361</td>\n",
       "      <td>-0.316678</td>\n",
       "      <td>0.029323</td>\n",
       "    </tr>\n",
       "    <tr>\n",
       "      <th>164</th>\n",
       "      <td>-0.372315</td>\n",
       "      <td>-0.361463</td>\n",
       "      <td>-0.538488</td>\n",
       "      <td>-0.377572</td>\n",
       "      <td>-0.658404</td>\n",
       "      <td>0.409732</td>\n",
       "      <td>0.286958</td>\n",
       "      <td>-0.661206</td>\n",
       "      <td>-0.637754</td>\n",
       "    </tr>\n",
       "    <tr>\n",
       "      <th>165</th>\n",
       "      <td>0.448417</td>\n",
       "      <td>-0.392166</td>\n",
       "      <td>-0.550596</td>\n",
       "      <td>-0.418479</td>\n",
       "      <td>-0.658924</td>\n",
       "      <td>1.500916</td>\n",
       "      <td>-0.344633</td>\n",
       "      <td>1.140944</td>\n",
       "      <td>-0.637754</td>\n",
       "    </tr>\n",
       "    <tr>\n",
       "      <th>166</th>\n",
       "      <td>1.114951</td>\n",
       "      <td>-0.383952</td>\n",
       "      <td>-0.540498</td>\n",
       "      <td>-0.418445</td>\n",
       "      <td>-0.721358</td>\n",
       "      <td>0.590015</td>\n",
       "      <td>-2.092785</td>\n",
       "      <td>1.624609</td>\n",
       "      <td>-0.629546</td>\n",
       "    </tr>\n",
       "  </tbody>\n",
       "</table>\n",
       "<p>167 rows × 9 columns</p>\n",
       "</div>"
      ],
      "text/plain": [
       "     child_mort   exports    health   imports    income  inflation  \\\n",
       "0      1.291532 -0.411011 -0.565040 -0.432276 -0.808245   0.157336   \n",
       "1     -0.538949 -0.350191 -0.439218 -0.313677 -0.375369  -0.312347   \n",
       "2     -0.272833 -0.318526 -0.484826 -0.353720 -0.220844   0.789274   \n",
       "3      2.007808 -0.291375 -0.532363 -0.345953 -0.585043   1.387054   \n",
       "4     -0.695634 -0.104331 -0.178771  0.040735  0.101732  -0.601749   \n",
       "..          ...       ...       ...       ...       ...        ...   \n",
       "162   -0.225578 -0.336864 -0.501562 -0.342488 -0.738527  -0.489784   \n",
       "163   -0.526514 -0.199393 -0.219310 -0.287205 -0.033542   3.616865   \n",
       "164   -0.372315 -0.361463 -0.538488 -0.377572 -0.658404   0.409732   \n",
       "165    0.448417 -0.392166 -0.550596 -0.418479 -0.658924   1.500916   \n",
       "166    1.114951 -0.383952 -0.540498 -0.418445 -0.721358   0.590015   \n",
       "\n",
       "     life_expec  total_fer      gdpp  \n",
       "0     -1.619092   1.902882 -0.679180  \n",
       "1      0.647866  -0.859973 -0.485623  \n",
       "2      0.670423  -0.038404 -0.465376  \n",
       "3     -1.179234   2.128151 -0.516268  \n",
       "4      0.704258  -0.541946 -0.041817  \n",
       "..          ...        ...       ...  \n",
       "162   -0.852161   0.365754 -0.546913  \n",
       "163    0.546361  -0.316678  0.029323  \n",
       "164    0.286958  -0.661206 -0.637754  \n",
       "165   -0.344633   1.140944 -0.637754  \n",
       "166   -2.092785   1.624609 -0.629546  \n",
       "\n",
       "[167 rows x 9 columns]"
      ]
     },
     "execution_count": 12,
     "metadata": {},
     "output_type": "execute_result"
    }
   ],
   "source": [
    "sc = StandardScaler()\n",
    "dfscaled = sc.fit_transform(df1)\n",
    "dfscaled = pd.DataFrame(dfscaled,columns=df1.columns)\n",
    "dfscaled"
   ]
  },
  {
   "cell_type": "code",
   "execution_count": 13,
   "id": "86e59e80",
   "metadata": {},
   "outputs": [
    {
     "data": {
      "text/plain": [
       "array([[-2.63557499e+00,  1.47226739e+00, -5.49488868e-01, ...,\n",
       "        -4.02106673e-01,  1.52246778e-02,  2.14526223e-02],\n",
       "       [-2.42055643e-02, -1.42989187e+00, -1.41232909e-02, ...,\n",
       "         2.62749660e-01,  3.75846547e-04, -3.38831728e-02],\n",
       "       [-4.59557398e-01, -6.75495376e-01,  9.59354680e-01, ...,\n",
       "         2.26680500e-01,  4.17041908e-02, -3.26636757e-02],\n",
       "       ...,\n",
       "       [-5.94449148e-01, -1.07633467e+00,  5.28874919e-01, ...,\n",
       "         1.27676529e-01, -3.75433341e-02, -7.38600849e-02],\n",
       "       [-1.80237235e+00,  5.88729402e-01,  1.18085099e+00, ...,\n",
       "        -1.30849147e-01,  1.19704727e-02, -6.63306309e-03],\n",
       "       [-2.64450479e+00,  1.57195347e+00, -1.74684997e-01, ...,\n",
       "        -7.51162884e-01,  5.94382085e-03,  3.54065192e-02]])"
      ]
     },
     "execution_count": 13,
     "metadata": {},
     "output_type": "execute_result"
    }
   ],
   "source": [
    "pca = PCA()\n",
    "pcafit = pca.fit_transform(dfscaled)\n",
    "pcafit"
   ]
  },
  {
   "cell_type": "code",
   "execution_count": 14,
   "id": "3a13dfb8",
   "metadata": {},
   "outputs": [
    {
     "data": {
      "text/plain": [
       "array([5.89372984e-01, 1.84451685e-01, 9.91147170e-02, 6.07227801e-02,\n",
       "       3.02917253e-02, 2.45982702e-02, 9.39743701e-03, 1.55641971e-03,\n",
       "       4.93981394e-04])"
      ]
     },
     "execution_count": 14,
     "metadata": {},
     "output_type": "execute_result"
    }
   ],
   "source": [
    "variation= pca.explained_variance_ratio_\n",
    "variation"
   ]
  },
  {
   "cell_type": "code",
   "execution_count": 15,
   "id": "91195d53",
   "metadata": {},
   "outputs": [
    {
     "data": {
      "text/plain": [
       "<BarContainer object of 9 artists>"
      ]
     },
     "execution_count": 15,
     "metadata": {},
     "output_type": "execute_result"
    },
    {
     "data": {
      "image/png": "[encoded data removed]",
      "text/plain": [
       "<Figure size 432x288 with 1 Axes>"
      ]
     },
     "metadata": {
      "needs_background": "light"
     },
     "output_type": "display_data"
    }
   ],
   "source": [
    "plt.bar(range(1,len(variation)+1),variation)"
   ]
  },
  {
   "cell_type": "code",
   "execution_count": 17,
   "id": "3dd4b4ee",
   "metadata": {},
   "outputs": [
    {
     "data": {
      "text/plain": [
       "array([ 58.93729842,  77.38246694,  87.29393863,  93.36621664,\n",
       "        96.39538917,  98.85521619,  99.79495989,  99.95060186,\n",
       "       100.        ])"
      ]
     },
     "execution_count": 17,
     "metadata": {},
     "output_type": "execute_result"
    }
   ],
   "source": [
    "varcumsum = np.cumsum(variation)*100\n",
    "varcumsum "
   ]
  },
  {
   "cell_type": "code",
   "execution_count": 19,
   "id": "25821745",
   "metadata": {},
   "outputs": [
    {
     "data": {
      "text/plain": [
       "<matplotlib.collections.LineCollection at 0x2826d276bb0>"
      ]
     },
     "execution_count": 19,
     "metadata": {},
     "output_type": "execute_result"
    },
    {
     "data": {
      "image/png": "[encoded data removed]",
      "text/plain": [
       "<Figure size 432x288 with 1 Axes>"
      ]
     },
     "metadata": {
      "needs_background": "light"
     },
     "output_type": "display_data"
    }
   ],
   "source": [
    "#scree plot\n",
    "plt.plot(varcumsum)\n",
    "plt.xlabel('No. of pca comp')\n",
    "plt.ylabel('cumulative sum-explained variance')\n",
    "plt.vlines(x=3,ymax=100,ymin=0)"
   ]
  },
  {
   "cell_type": "code",
   "execution_count": 20,
   "id": "f81fc44b",
   "metadata": {},
   "outputs": [
    {
     "data": {
      "text/html": [
       "<div>\n",
       "<style scoped>\n",
       "    .dataframe tbody tr th:only-of-type {\n",
       "        vertical-align: middle;\n",
       "    }\n",
       "\n",
       "    .dataframe tbody tr th {\n",
       "        vertical-align: top;\n",
       "    }\n",
       "\n",
       "    .dataframe thead th {\n",
       "        text-align: right;\n",
       "    }\n",
       "</style>\n",
       "<table border=\"1\" class=\"dataframe\">\n",
       "  <thead>\n",
       "    <tr style=\"text-align: right;\">\n",
       "      <th></th>\n",
       "      <th>features</th>\n",
       "      <th>PC1</th>\n",
       "      <th>pc2</th>\n",
       "      <th>pc3</th>\n",
       "    </tr>\n",
       "  </thead>\n",
       "  <tbody>\n",
       "    <tr>\n",
       "      <th>0</th>\n",
       "      <td>child_mort</td>\n",
       "      <td>-0.316392</td>\n",
       "      <td>0.476267</td>\n",
       "      <td>-0.150012</td>\n",
       "    </tr>\n",
       "    <tr>\n",
       "      <th>1</th>\n",
       "      <td>exports</td>\n",
       "      <td>0.342887</td>\n",
       "      <td>0.397311</td>\n",
       "      <td>-0.030574</td>\n",
       "    </tr>\n",
       "    <tr>\n",
       "      <th>2</th>\n",
       "      <td>health</td>\n",
       "      <td>0.358535</td>\n",
       "      <td>0.155053</td>\n",
       "      <td>-0.075703</td>\n",
       "    </tr>\n",
       "    <tr>\n",
       "      <th>3</th>\n",
       "      <td>imports</td>\n",
       "      <td>0.344865</td>\n",
       "      <td>0.370781</td>\n",
       "      <td>-0.072174</td>\n",
       "    </tr>\n",
       "    <tr>\n",
       "      <th>4</th>\n",
       "      <td>income</td>\n",
       "      <td>0.380041</td>\n",
       "      <td>0.128384</td>\n",
       "      <td>0.145764</td>\n",
       "    </tr>\n",
       "  </tbody>\n",
       "</table>\n",
       "</div>"
      ],
      "text/plain": [
       "     features       PC1       pc2       pc3\n",
       "0  child_mort -0.316392  0.476267 -0.150012\n",
       "1     exports  0.342887  0.397311 -0.030574\n",
       "2      health  0.358535  0.155053 -0.075703\n",
       "3     imports  0.344865  0.370781 -0.072174\n",
       "4      income  0.380041  0.128384  0.145764"
      ]
     },
     "execution_count": 20,
     "metadata": {},
     "output_type": "execute_result"
    }
   ],
   "source": [
    "table = pd.DataFrame({'features':df1.columns,'PC1':pca.components_[0],'pc2':pca.components_[1],'pc3':pca.components_[2]})\n",
    "table.head()"
   ]
  },
  {
   "cell_type": "code",
   "execution_count": 24,
   "id": "56ef66a5",
   "metadata": {},
   "outputs": [
    {
     "data": {
      "text/plain": [
       "<seaborn.axisgrid.PairGrid at 0x2826d38b0a0>"
      ]
     },
     "execution_count": 24,
     "metadata": {},
     "output_type": "execute_result"
    },
    {
     "data": {
      "image/png": "[encoded data removed]",
      "text/plain": [
       "<Figure size 520.625x432 with 1 Axes>"
      ]
     },
     "metadata": {
      "needs_background": "light"
     },
     "output_type": "display_data"
    }
   ],
   "source": [
    "\n",
    "sns.pairplot(data=table,x_vars='PC1',y_vars='pc3',hue='features',height=6)"
   ]
  },
  {
   "cell_type": "code",
   "execution_count": 25,
   "id": "c9597961",
   "metadata": {},
   "outputs": [],
   "source": [
    "finalpca = PCA(n_components=3)"
   ]
  },
  {
   "cell_type": "code",
   "execution_count": 26,
   "id": "4e1a3268",
   "metadata": {},
   "outputs": [],
   "source": [
    "finaldf = finalpca.fit_transform(dfscaled)"
   ]
  },
  {
   "cell_type": "code",
   "execution_count": 27,
   "id": "7f04d288",
   "metadata": {},
   "outputs": [
    {
     "data": {
      "text/html": [
       "<div>\n",
       "<style scoped>\n",
       "    .dataframe tbody tr th:only-of-type {\n",
       "        vertical-align: middle;\n",
       "    }\n",
       "\n",
       "    .dataframe tbody tr th {\n",
       "        vertical-align: top;\n",
       "    }\n",
       "\n",
       "    .dataframe thead th {\n",
       "        text-align: right;\n",
       "    }\n",
       "</style>\n",
       "<table border=\"1\" class=\"dataframe\">\n",
       "  <thead>\n",
       "    <tr style=\"text-align: right;\">\n",
       "      <th></th>\n",
       "      <th>pc1</th>\n",
       "      <th>pc2</th>\n",
       "      <th>pc3</th>\n",
       "    </tr>\n",
       "  </thead>\n",
       "  <tbody>\n",
       "    <tr>\n",
       "      <th>0</th>\n",
       "      <td>-2.635575</td>\n",
       "      <td>1.472267</td>\n",
       "      <td>-0.549489</td>\n",
       "    </tr>\n",
       "    <tr>\n",
       "      <th>1</th>\n",
       "      <td>-0.024206</td>\n",
       "      <td>-1.429892</td>\n",
       "      <td>-0.014123</td>\n",
       "    </tr>\n",
       "    <tr>\n",
       "      <th>2</th>\n",
       "      <td>-0.459557</td>\n",
       "      <td>-0.675495</td>\n",
       "      <td>0.959355</td>\n",
       "    </tr>\n",
       "    <tr>\n",
       "      <th>3</th>\n",
       "      <td>-2.722630</td>\n",
       "      <td>2.172332</td>\n",
       "      <td>0.600215</td>\n",
       "    </tr>\n",
       "    <tr>\n",
       "      <th>4</th>\n",
       "      <td>0.648597</td>\n",
       "      <td>-1.023437</td>\n",
       "      <td>-0.257430</td>\n",
       "    </tr>\n",
       "  </tbody>\n",
       "</table>\n",
       "</div>"
      ],
      "text/plain": [
       "        pc1       pc2       pc3\n",
       "0 -2.635575  1.472267 -0.549489\n",
       "1 -0.024206 -1.429892 -0.014123\n",
       "2 -0.459557 -0.675495  0.959355\n",
       "3 -2.722630  2.172332  0.600215\n",
       "4  0.648597 -1.023437 -0.257430"
      ]
     },
     "execution_count": 27,
     "metadata": {},
     "output_type": "execute_result"
    }
   ],
   "source": [
    "finaldf = pd.DataFrame(finaldf,columns=['pc1','pc2','pc3'])\n",
    "finaldf.head()"
   ]
  },
  {
   "cell_type": "code",
   "execution_count": 28,
   "id": "7f4df6a2",
   "metadata": {},
   "outputs": [
    {
     "data": {
      "text/plain": [
       "<AxesSubplot:>"
      ]
     },
     "execution_count": 28,
     "metadata": {},
     "output_type": "execute_result"
    },
    {
     "data": {
      "image/png": "[encoded data removed]",
      "text/plain": [
       "<Figure size 432x288 with 2 Axes>"
      ]
     },
     "metadata": {
      "needs_background": "light"
     },
     "output_type": "display_data"
    }
   ],
   "source": [
    "sns.heatmap(finaldf.corr(),annot=True)"
   ]
  },
  {
   "cell_type": "code",
   "execution_count": 30,
   "id": "599de6d0",
   "metadata": {},
   "outputs": [
    {
     "data": {
      "text/html": [
       "<div>\n",
       "<style scoped>\n",
       "    .dataframe tbody tr th:only-of-type {\n",
       "        vertical-align: middle;\n",
       "    }\n",
       "\n",
       "    .dataframe tbody tr th {\n",
       "        vertical-align: top;\n",
       "    }\n",
       "\n",
       "    .dataframe thead th {\n",
       "        text-align: right;\n",
       "    }\n",
       "</style>\n",
       "<table border=\"1\" class=\"dataframe\">\n",
       "  <thead>\n",
       "    <tr style=\"text-align: right;\">\n",
       "      <th></th>\n",
       "      <th>country</th>\n",
       "      <th>country</th>\n",
       "      <th>pc1</th>\n",
       "      <th>pc2</th>\n",
       "      <th>pc3</th>\n",
       "    </tr>\n",
       "  </thead>\n",
       "  <tbody>\n",
       "    <tr>\n",
       "      <th>0</th>\n",
       "      <td>Afghanistan</td>\n",
       "      <td>Afghanistan</td>\n",
       "      <td>-2.635575</td>\n",
       "      <td>1.472267</td>\n",
       "      <td>-0.549489</td>\n",
       "    </tr>\n",
       "    <tr>\n",
       "      <th>1</th>\n",
       "      <td>Albania</td>\n",
       "      <td>Albania</td>\n",
       "      <td>-0.024206</td>\n",
       "      <td>-1.429892</td>\n",
       "      <td>-0.014123</td>\n",
       "    </tr>\n",
       "    <tr>\n",
       "      <th>2</th>\n",
       "      <td>Algeria</td>\n",
       "      <td>Algeria</td>\n",
       "      <td>-0.459557</td>\n",
       "      <td>-0.675495</td>\n",
       "      <td>0.959355</td>\n",
       "    </tr>\n",
       "    <tr>\n",
       "      <th>3</th>\n",
       "      <td>Angola</td>\n",
       "      <td>Angola</td>\n",
       "      <td>-2.722630</td>\n",
       "      <td>2.172332</td>\n",
       "      <td>0.600215</td>\n",
       "    </tr>\n",
       "    <tr>\n",
       "      <th>4</th>\n",
       "      <td>Antigua and Barbuda</td>\n",
       "      <td>Antigua and Barbuda</td>\n",
       "      <td>0.648597</td>\n",
       "      <td>-1.023437</td>\n",
       "      <td>-0.257430</td>\n",
       "    </tr>\n",
       "    <tr>\n",
       "      <th>...</th>\n",
       "      <td>...</td>\n",
       "      <td>...</td>\n",
       "      <td>...</td>\n",
       "      <td>...</td>\n",
       "      <td>...</td>\n",
       "    </tr>\n",
       "    <tr>\n",
       "      <th>162</th>\n",
       "      <td>Vanuatu</td>\n",
       "      <td>Vanuatu</td>\n",
       "      <td>-1.175210</td>\n",
       "      <td>-0.275652</td>\n",
       "      <td>-0.667131</td>\n",
       "    </tr>\n",
       "    <tr>\n",
       "      <th>163</th>\n",
       "      <td>Venezuela</td>\n",
       "      <td>Venezuela</td>\n",
       "      <td>-0.314228</td>\n",
       "      <td>-0.016266</td>\n",
       "      <td>3.680273</td>\n",
       "    </tr>\n",
       "    <tr>\n",
       "      <th>164</th>\n",
       "      <td>Vietnam</td>\n",
       "      <td>Vietnam</td>\n",
       "      <td>-0.594449</td>\n",
       "      <td>-1.076335</td>\n",
       "      <td>0.528875</td>\n",
       "    </tr>\n",
       "    <tr>\n",
       "      <th>165</th>\n",
       "      <td>Yemen</td>\n",
       "      <td>Yemen</td>\n",
       "      <td>-1.802372</td>\n",
       "      <td>0.588729</td>\n",
       "      <td>1.180851</td>\n",
       "    </tr>\n",
       "    <tr>\n",
       "      <th>166</th>\n",
       "      <td>Zambia</td>\n",
       "      <td>Zambia</td>\n",
       "      <td>-2.644505</td>\n",
       "      <td>1.571953</td>\n",
       "      <td>-0.174685</td>\n",
       "    </tr>\n",
       "  </tbody>\n",
       "</table>\n",
       "<p>167 rows × 5 columns</p>\n",
       "</div>"
      ],
      "text/plain": [
       "                 country              country       pc1       pc2       pc3\n",
       "0            Afghanistan          Afghanistan -2.635575  1.472267 -0.549489\n",
       "1                Albania              Albania -0.024206 -1.429892 -0.014123\n",
       "2                Algeria              Algeria -0.459557 -0.675495  0.959355\n",
       "3                 Angola               Angola -2.722630  2.172332  0.600215\n",
       "4    Antigua and Barbuda  Antigua and Barbuda  0.648597 -1.023437 -0.257430\n",
       "..                   ...                  ...       ...       ...       ...\n",
       "162              Vanuatu              Vanuatu -1.175210 -0.275652 -0.667131\n",
       "163            Venezuela            Venezuela -0.314228 -0.016266  3.680273\n",
       "164              Vietnam              Vietnam -0.594449 -1.076335  0.528875\n",
       "165                Yemen                Yemen -1.802372  0.588729  1.180851\n",
       "166               Zambia               Zambia -2.644505  1.571953 -0.174685\n",
       "\n",
       "[167 rows x 5 columns]"
      ]
     },
     "execution_count": 30,
     "metadata": {},
     "output_type": "execute_result"
    }
   ],
   "source": [
    "finaldf = pd.concat([country,finaldf],axis=1)\n",
    "finaldf"
   ]
  },
  {
   "cell_type": "code",
   "execution_count": null,
   "id": "3d7b3141",
   "metadata": {},
   "outputs": [],
   "source": []
  }
 ],
 "metadata": {
  "kernelspec": {
   "display_name": "Python 3",
   "language": "python",
   "name": "python3"
  },
  "language_info": {
   "codemirror_mode": {
    "name": "ipython",
    "version": 3
   },
   "file_extension": ".py",
   "mimetype": "text/x-python",
   "name": "python",
   "nbconvert_exporter": "python",
   "pygments_lexer": "ipython3",
   "version": "3.8.8"
  }
 },
 "nbformat": 4,
 "nbformat_minor": 5
}
