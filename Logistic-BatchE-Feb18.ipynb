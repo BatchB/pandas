{
 "cells": [
  {
   "cell_type": "code",
   "execution_count": 1,
   "id": "42d2c790",
   "metadata": {},
   "outputs": [],
   "source": [
    "import pandas as pd\n",
    "import numpy as np\n",
    "import matplotlib.pyplot as plt\n",
    "import statsmodels.api as sm"
   ]
  },
  {
   "cell_type": "code",
   "execution_count": 2,
   "id": "45021e90",
   "metadata": {},
   "outputs": [
    {
     "data": {
      "text/html": [
       "<div>\n",
       "<style scoped>\n",
       "    .dataframe tbody tr th:only-of-type {\n",
       "        vertical-align: middle;\n",
       "    }\n",
       "\n",
       "    .dataframe tbody tr th {\n",
       "        vertical-align: top;\n",
       "    }\n",
       "\n",
       "    .dataframe thead th {\n",
       "        text-align: right;\n",
       "    }\n",
       "</style>\n",
       "<table border=\"1\" class=\"dataframe\">\n",
       "  <thead>\n",
       "    <tr style=\"text-align: right;\">\n",
       "      <th></th>\n",
       "      <th>satisfaction_level</th>\n",
       "      <th>last_evaluation</th>\n",
       "      <th>number_project</th>\n",
       "      <th>average_montly_hours</th>\n",
       "      <th>time_spend_company</th>\n",
       "      <th>Work_accident</th>\n",
       "      <th>promotion_last_5years</th>\n",
       "      <th>Department</th>\n",
       "      <th>salary</th>\n",
       "      <th>left</th>\n",
       "    </tr>\n",
       "  </thead>\n",
       "  <tbody>\n",
       "    <tr>\n",
       "      <th>0</th>\n",
       "      <td>0.44</td>\n",
       "      <td>0.66</td>\n",
       "      <td>6</td>\n",
       "      <td>134</td>\n",
       "      <td>8</td>\n",
       "      <td>0</td>\n",
       "      <td>0</td>\n",
       "      <td>RandD</td>\n",
       "      <td>high</td>\n",
       "      <td>0</td>\n",
       "    </tr>\n",
       "    <tr>\n",
       "      <th>1</th>\n",
       "      <td>0.81</td>\n",
       "      <td>0.92</td>\n",
       "      <td>5</td>\n",
       "      <td>258</td>\n",
       "      <td>3</td>\n",
       "      <td>0</td>\n",
       "      <td>1</td>\n",
       "      <td>sales</td>\n",
       "      <td>medium</td>\n",
       "      <td>0</td>\n",
       "    </tr>\n",
       "    <tr>\n",
       "      <th>2</th>\n",
       "      <td>0.50</td>\n",
       "      <td>0.81</td>\n",
       "      <td>3</td>\n",
       "      <td>148</td>\n",
       "      <td>2</td>\n",
       "      <td>0</td>\n",
       "      <td>0</td>\n",
       "      <td>sales</td>\n",
       "      <td>low</td>\n",
       "      <td>0</td>\n",
       "    </tr>\n",
       "    <tr>\n",
       "      <th>3</th>\n",
       "      <td>0.64</td>\n",
       "      <td>0.60</td>\n",
       "      <td>3</td>\n",
       "      <td>135</td>\n",
       "      <td>3</td>\n",
       "      <td>0</td>\n",
       "      <td>0</td>\n",
       "      <td>RandD</td>\n",
       "      <td>low</td>\n",
       "      <td>0</td>\n",
       "    </tr>\n",
       "    <tr>\n",
       "      <th>4</th>\n",
       "      <td>0.59</td>\n",
       "      <td>0.47</td>\n",
       "      <td>5</td>\n",
       "      <td>191</td>\n",
       "      <td>3</td>\n",
       "      <td>0</td>\n",
       "      <td>0</td>\n",
       "      <td>RandD</td>\n",
       "      <td>low</td>\n",
       "      <td>0</td>\n",
       "    </tr>\n",
       "  </tbody>\n",
       "</table>\n",
       "</div>"
      ],
      "text/plain": [
       "   satisfaction_level  last_evaluation  number_project  average_montly_hours  \\\n",
       "0                0.44             0.66               6                   134   \n",
       "1                0.81             0.92               5                   258   \n",
       "2                0.50             0.81               3                   148   \n",
       "3                0.64             0.60               3                   135   \n",
       "4                0.59             0.47               5                   191   \n",
       "\n",
       "   time_spend_company  Work_accident  promotion_last_5years Department  \\\n",
       "0                   8              0                      0      RandD   \n",
       "1                   3              0                      1      sales   \n",
       "2                   2              0                      0      sales   \n",
       "3                   3              0                      0      RandD   \n",
       "4                   3              0                      0      RandD   \n",
       "\n",
       "   salary  left  \n",
       "0    high     0  \n",
       "1  medium     0  \n",
       "2     low     0  \n",
       "3     low     0  \n",
       "4     low     0  "
      ]
     },
     "execution_count": 2,
     "metadata": {},
     "output_type": "execute_result"
    }
   ],
   "source": [
    "hr = pd.read_csv(\"hr_sample.csv\")\n",
    "hr.head()"
   ]
  },
  {
   "cell_type": "code",
   "execution_count": 3,
   "id": "77457448",
   "metadata": {},
   "outputs": [
    {
     "data": {
      "text/plain": [
       "(7101, 10)"
      ]
     },
     "execution_count": 3,
     "metadata": {},
     "output_type": "execute_result"
    }
   ],
   "source": [
    "hr.shape"
   ]
  },
  {
   "cell_type": "code",
   "execution_count": 4,
   "id": "a46f406d",
   "metadata": {},
   "outputs": [
    {
     "data": {
      "text/plain": [
       "satisfaction_level       0\n",
       "last_evaluation          0\n",
       "number_project           0\n",
       "average_montly_hours     0\n",
       "time_spend_company       0\n",
       "Work_accident            0\n",
       "promotion_last_5years    0\n",
       "Department               0\n",
       "salary                   0\n",
       "left                     0\n",
       "dtype: int64"
      ]
     },
     "execution_count": 4,
     "metadata": {},
     "output_type": "execute_result"
    }
   ],
   "source": [
    "hr.isnull().sum()"
   ]
  },
  {
   "cell_type": "code",
   "execution_count": 6,
   "id": "7fd4a907",
   "metadata": {},
   "outputs": [
    {
     "name": "stdout",
     "output_type": "stream",
     "text": [
      "<class 'pandas.core.frame.DataFrame'>\n",
      "RangeIndex: 7101 entries, 0 to 7100\n",
      "Data columns (total 10 columns):\n",
      " #   Column                 Non-Null Count  Dtype  \n",
      "---  ------                 --------------  -----  \n",
      " 0   satisfaction_level     7101 non-null   float64\n",
      " 1   last_evaluation        7101 non-null   float64\n",
      " 2   number_project         7101 non-null   int64  \n",
      " 3   average_montly_hours   7101 non-null   int64  \n",
      " 4   time_spend_company     7101 non-null   int64  \n",
      " 5   Work_accident          7101 non-null   int64  \n",
      " 6   promotion_last_5years  7101 non-null   int64  \n",
      " 7   Department             7101 non-null   object \n",
      " 8   salary                 7101 non-null   object \n",
      " 9   left                   7101 non-null   int64  \n",
      "dtypes: float64(2), int64(6), object(2)\n",
      "memory usage: 554.9+ KB\n"
     ]
    }
   ],
   "source": [
    "# Check info\n",
    "hr.info()"
   ]
  },
  {
   "cell_type": "code",
   "execution_count": 7,
   "id": "3943f96a",
   "metadata": {},
   "outputs": [
    {
     "data": {
      "text/plain": [
       "0    0.502887\n",
       "1    0.497113\n",
       "Name: left, dtype: float64"
      ]
     },
     "execution_count": 7,
     "metadata": {},
     "output_type": "execute_result"
    }
   ],
   "source": [
    "# Check target column\n",
    "hr['left'].value_counts(normalize=True)"
   ]
  },
  {
   "cell_type": "code",
   "execution_count": 8,
   "id": "a68268c6",
   "metadata": {},
   "outputs": [
    {
     "data": {
      "text/plain": [
       "count    7101.000000\n",
       "mean        0.550715\n",
       "std         0.266348\n",
       "min         0.090000\n",
       "25%         0.380000\n",
       "50%         0.550000\n",
       "75%         0.780000\n",
       "max         1.000000\n",
       "Name: satisfaction_level, dtype: float64"
      ]
     },
     "execution_count": 8,
     "metadata": {},
     "output_type": "execute_result"
    }
   ],
   "source": [
    "hr['satisfaction_level'].describe()"
   ]
  },
  {
   "cell_type": "code",
   "execution_count": 10,
   "id": "cff450a2",
   "metadata": {},
   "outputs": [
    {
     "data": {
      "text/html": [
       "<div>\n",
       "<style scoped>\n",
       "    .dataframe tbody tr th:only-of-type {\n",
       "        vertical-align: middle;\n",
       "    }\n",
       "\n",
       "    .dataframe tbody tr th {\n",
       "        vertical-align: top;\n",
       "    }\n",
       "\n",
       "    .dataframe thead th {\n",
       "        text-align: right;\n",
       "    }\n",
       "</style>\n",
       "<table border=\"1\" class=\"dataframe\">\n",
       "  <thead>\n",
       "    <tr style=\"text-align: right;\">\n",
       "      <th></th>\n",
       "      <th>count</th>\n",
       "      <th>mean</th>\n",
       "      <th>std</th>\n",
       "      <th>min</th>\n",
       "      <th>25%</th>\n",
       "      <th>50%</th>\n",
       "      <th>75%</th>\n",
       "      <th>max</th>\n",
       "    </tr>\n",
       "  </thead>\n",
       "  <tbody>\n",
       "    <tr>\n",
       "      <th>satisfaction_level</th>\n",
       "      <td>7101.0</td>\n",
       "      <td>0.550715</td>\n",
       "      <td>0.266348</td>\n",
       "      <td>0.09</td>\n",
       "      <td>0.38</td>\n",
       "      <td>0.55</td>\n",
       "      <td>0.78</td>\n",
       "      <td>1.0</td>\n",
       "    </tr>\n",
       "    <tr>\n",
       "      <th>last_evaluation</th>\n",
       "      <td>7101.0</td>\n",
       "      <td>0.716774</td>\n",
       "      <td>0.180693</td>\n",
       "      <td>0.36</td>\n",
       "      <td>0.54</td>\n",
       "      <td>0.73</td>\n",
       "      <td>0.88</td>\n",
       "      <td>1.0</td>\n",
       "    </tr>\n",
       "    <tr>\n",
       "      <th>number_project</th>\n",
       "      <td>7101.0</td>\n",
       "      <td>3.826081</td>\n",
       "      <td>1.461825</td>\n",
       "      <td>2.00</td>\n",
       "      <td>2.00</td>\n",
       "      <td>4.00</td>\n",
       "      <td>5.00</td>\n",
       "      <td>7.0</td>\n",
       "    </tr>\n",
       "    <tr>\n",
       "      <th>average_montly_hours</th>\n",
       "      <td>7101.0</td>\n",
       "      <td>203.545839</td>\n",
       "      <td>54.204280</td>\n",
       "      <td>96.00</td>\n",
       "      <td>152.00</td>\n",
       "      <td>205.00</td>\n",
       "      <td>253.00</td>\n",
       "      <td>310.0</td>\n",
       "    </tr>\n",
       "    <tr>\n",
       "      <th>time_spend_company</th>\n",
       "      <td>7101.0</td>\n",
       "      <td>3.633432</td>\n",
       "      <td>1.310350</td>\n",
       "      <td>2.00</td>\n",
       "      <td>3.00</td>\n",
       "      <td>3.00</td>\n",
       "      <td>4.00</td>\n",
       "      <td>10.0</td>\n",
       "    </tr>\n",
       "    <tr>\n",
       "      <th>Work_accident</th>\n",
       "      <td>7101.0</td>\n",
       "      <td>0.110548</td>\n",
       "      <td>0.313593</td>\n",
       "      <td>0.00</td>\n",
       "      <td>0.00</td>\n",
       "      <td>0.00</td>\n",
       "      <td>0.00</td>\n",
       "      <td>1.0</td>\n",
       "    </tr>\n",
       "    <tr>\n",
       "      <th>promotion_last_5years</th>\n",
       "      <td>7101.0</td>\n",
       "      <td>0.015209</td>\n",
       "      <td>0.122392</td>\n",
       "      <td>0.00</td>\n",
       "      <td>0.00</td>\n",
       "      <td>0.00</td>\n",
       "      <td>0.00</td>\n",
       "      <td>1.0</td>\n",
       "    </tr>\n",
       "    <tr>\n",
       "      <th>left</th>\n",
       "      <td>7101.0</td>\n",
       "      <td>0.497113</td>\n",
       "      <td>0.500027</td>\n",
       "      <td>0.00</td>\n",
       "      <td>0.00</td>\n",
       "      <td>0.00</td>\n",
       "      <td>1.00</td>\n",
       "      <td>1.0</td>\n",
       "    </tr>\n",
       "  </tbody>\n",
       "</table>\n",
       "</div>"
      ],
      "text/plain": [
       "                        count        mean        std    min     25%     50%  \\\n",
       "satisfaction_level     7101.0    0.550715   0.266348   0.09    0.38    0.55   \n",
       "last_evaluation        7101.0    0.716774   0.180693   0.36    0.54    0.73   \n",
       "number_project         7101.0    3.826081   1.461825   2.00    2.00    4.00   \n",
       "average_montly_hours   7101.0  203.545839  54.204280  96.00  152.00  205.00   \n",
       "time_spend_company     7101.0    3.633432   1.310350   2.00    3.00    3.00   \n",
       "Work_accident          7101.0    0.110548   0.313593   0.00    0.00    0.00   \n",
       "promotion_last_5years  7101.0    0.015209   0.122392   0.00    0.00    0.00   \n",
       "left                   7101.0    0.497113   0.500027   0.00    0.00    0.00   \n",
       "\n",
       "                          75%    max  \n",
       "satisfaction_level       0.78    1.0  \n",
       "last_evaluation          0.88    1.0  \n",
       "number_project           5.00    7.0  \n",
       "average_montly_hours   253.00  310.0  \n",
       "time_spend_company       4.00   10.0  \n",
       "Work_accident            0.00    1.0  \n",
       "promotion_last_5years    0.00    1.0  \n",
       "left                     1.00    1.0  "
      ]
     },
     "execution_count": 10,
     "metadata": {},
     "output_type": "execute_result"
    }
   ],
   "source": [
    "hr.describe().T"
   ]
  },
  {
   "cell_type": "code",
   "execution_count": 11,
   "id": "37e9e3aa",
   "metadata": {},
   "outputs": [
    {
     "data": {
      "text/plain": [
       "2    1805\n",
       "4    1641\n",
       "3    1307\n",
       "5    1269\n",
       "6     824\n",
       "7     255\n",
       "Name: number_project, dtype: int64"
      ]
     },
     "execution_count": 11,
     "metadata": {},
     "output_type": "execute_result"
    }
   ],
   "source": [
    "hr['number_project'].value_counts()"
   ]
  },
  {
   "cell_type": "code",
   "execution_count": 12,
   "id": "fbc6cdf6",
   "metadata": {},
   "outputs": [
    {
     "data": {
      "text/plain": [
       "0    6316\n",
       "1     785\n",
       "Name: Work_accident, dtype: int64"
      ]
     },
     "execution_count": 12,
     "metadata": {},
     "output_type": "execute_result"
    }
   ],
   "source": [
    "hr['Work_accident'].value_counts()"
   ]
  },
  {
   "cell_type": "code",
   "execution_count": 13,
   "id": "8bf3532d",
   "metadata": {},
   "outputs": [
    {
     "data": {
      "text/plain": [
       "0    6993\n",
       "1     108\n",
       "Name: promotion_last_5years, dtype: int64"
      ]
     },
     "execution_count": 13,
     "metadata": {},
     "output_type": "execute_result"
    }
   ],
   "source": [
    "hr['promotion_last_5years'].value_counts()"
   ]
  },
  {
   "cell_type": "code",
   "execution_count": 14,
   "id": "812569d9",
   "metadata": {},
   "outputs": [
    {
     "data": {
      "text/plain": [
       "low       3704\n",
       "medium    2991\n",
       "high       406\n",
       "Name: salary, dtype: int64"
      ]
     },
     "execution_count": 14,
     "metadata": {},
     "output_type": "execute_result"
    }
   ],
   "source": [
    "hr['salary'].value_counts()"
   ]
  },
  {
   "cell_type": "code",
   "execution_count": 15,
   "id": "1fcf566a",
   "metadata": {},
   "outputs": [
    {
     "data": {
      "text/plain": [
       "sales          2015\n",
       "technical      1319\n",
       "support        1071\n",
       "IT              567\n",
       "product_mng     423\n",
       "marketing       398\n",
       "accounting      370\n",
       "hr              351\n",
       "RandD           333\n",
       "management      254\n",
       "Name: Department, dtype: int64"
      ]
     },
     "execution_count": 15,
     "metadata": {},
     "output_type": "execute_result"
    }
   ],
   "source": [
    "hr['Department'].value_counts()"
   ]
  },
  {
   "cell_type": "code",
   "execution_count": null,
   "id": "633b321f",
   "metadata": {},
   "outputs": [],
   "source": [
    "# One hot encoding for department and salary"
   ]
  },
  {
   "cell_type": "code",
   "execution_count": 16,
   "id": "863ac1a8",
   "metadata": {},
   "outputs": [],
   "source": [
    "df = hr.copy()"
   ]
  },
  {
   "cell_type": "code",
   "execution_count": 17,
   "id": "8845d2e9",
   "metadata": {},
   "outputs": [
    {
     "data": {
      "text/html": [
       "<div>\n",
       "<style scoped>\n",
       "    .dataframe tbody tr th:only-of-type {\n",
       "        vertical-align: middle;\n",
       "    }\n",
       "\n",
       "    .dataframe tbody tr th {\n",
       "        vertical-align: top;\n",
       "    }\n",
       "\n",
       "    .dataframe thead th {\n",
       "        text-align: right;\n",
       "    }\n",
       "</style>\n",
       "<table border=\"1\" class=\"dataframe\">\n",
       "  <thead>\n",
       "    <tr style=\"text-align: right;\">\n",
       "      <th></th>\n",
       "      <th>satisfaction_level</th>\n",
       "      <th>last_evaluation</th>\n",
       "      <th>number_project</th>\n",
       "      <th>average_montly_hours</th>\n",
       "      <th>time_spend_company</th>\n",
       "      <th>Work_accident</th>\n",
       "      <th>promotion_last_5years</th>\n",
       "      <th>left</th>\n",
       "      <th>Department_RandD</th>\n",
       "      <th>Department_accounting</th>\n",
       "      <th>Department_hr</th>\n",
       "      <th>Department_management</th>\n",
       "      <th>Department_marketing</th>\n",
       "      <th>Department_product_mng</th>\n",
       "      <th>Department_sales</th>\n",
       "      <th>Department_support</th>\n",
       "      <th>Department_technical</th>\n",
       "      <th>salary_low</th>\n",
       "      <th>salary_medium</th>\n",
       "    </tr>\n",
       "  </thead>\n",
       "  <tbody>\n",
       "    <tr>\n",
       "      <th>0</th>\n",
       "      <td>0.44</td>\n",
       "      <td>0.66</td>\n",
       "      <td>6</td>\n",
       "      <td>134</td>\n",
       "      <td>8</td>\n",
       "      <td>0</td>\n",
       "      <td>0</td>\n",
       "      <td>0</td>\n",
       "      <td>1</td>\n",
       "      <td>0</td>\n",
       "      <td>0</td>\n",
       "      <td>0</td>\n",
       "      <td>0</td>\n",
       "      <td>0</td>\n",
       "      <td>0</td>\n",
       "      <td>0</td>\n",
       "      <td>0</td>\n",
       "      <td>0</td>\n",
       "      <td>0</td>\n",
       "    </tr>\n",
       "    <tr>\n",
       "      <th>1</th>\n",
       "      <td>0.81</td>\n",
       "      <td>0.92</td>\n",
       "      <td>5</td>\n",
       "      <td>258</td>\n",
       "      <td>3</td>\n",
       "      <td>0</td>\n",
       "      <td>1</td>\n",
       "      <td>0</td>\n",
       "      <td>0</td>\n",
       "      <td>0</td>\n",
       "      <td>0</td>\n",
       "      <td>0</td>\n",
       "      <td>0</td>\n",
       "      <td>0</td>\n",
       "      <td>1</td>\n",
       "      <td>0</td>\n",
       "      <td>0</td>\n",
       "      <td>0</td>\n",
       "      <td>1</td>\n",
       "    </tr>\n",
       "    <tr>\n",
       "      <th>2</th>\n",
       "      <td>0.50</td>\n",
       "      <td>0.81</td>\n",
       "      <td>3</td>\n",
       "      <td>148</td>\n",
       "      <td>2</td>\n",
       "      <td>0</td>\n",
       "      <td>0</td>\n",
       "      <td>0</td>\n",
       "      <td>0</td>\n",
       "      <td>0</td>\n",
       "      <td>0</td>\n",
       "      <td>0</td>\n",
       "      <td>0</td>\n",
       "      <td>0</td>\n",
       "      <td>1</td>\n",
       "      <td>0</td>\n",
       "      <td>0</td>\n",
       "      <td>1</td>\n",
       "      <td>0</td>\n",
       "    </tr>\n",
       "    <tr>\n",
       "      <th>3</th>\n",
       "      <td>0.64</td>\n",
       "      <td>0.60</td>\n",
       "      <td>3</td>\n",
       "      <td>135</td>\n",
       "      <td>3</td>\n",
       "      <td>0</td>\n",
       "      <td>0</td>\n",
       "      <td>0</td>\n",
       "      <td>1</td>\n",
       "      <td>0</td>\n",
       "      <td>0</td>\n",
       "      <td>0</td>\n",
       "      <td>0</td>\n",
       "      <td>0</td>\n",
       "      <td>0</td>\n",
       "      <td>0</td>\n",
       "      <td>0</td>\n",
       "      <td>1</td>\n",
       "      <td>0</td>\n",
       "    </tr>\n",
       "    <tr>\n",
       "      <th>4</th>\n",
       "      <td>0.59</td>\n",
       "      <td>0.47</td>\n",
       "      <td>5</td>\n",
       "      <td>191</td>\n",
       "      <td>3</td>\n",
       "      <td>0</td>\n",
       "      <td>0</td>\n",
       "      <td>0</td>\n",
       "      <td>1</td>\n",
       "      <td>0</td>\n",
       "      <td>0</td>\n",
       "      <td>0</td>\n",
       "      <td>0</td>\n",
       "      <td>0</td>\n",
       "      <td>0</td>\n",
       "      <td>0</td>\n",
       "      <td>0</td>\n",
       "      <td>1</td>\n",
       "      <td>0</td>\n",
       "    </tr>\n",
       "  </tbody>\n",
       "</table>\n",
       "</div>"
      ],
      "text/plain": [
       "   satisfaction_level  last_evaluation  number_project  average_montly_hours  \\\n",
       "0                0.44             0.66               6                   134   \n",
       "1                0.81             0.92               5                   258   \n",
       "2                0.50             0.81               3                   148   \n",
       "3                0.64             0.60               3                   135   \n",
       "4                0.59             0.47               5                   191   \n",
       "\n",
       "   time_spend_company  Work_accident  promotion_last_5years  left  \\\n",
       "0                   8              0                      0     0   \n",
       "1                   3              0                      1     0   \n",
       "2                   2              0                      0     0   \n",
       "3                   3              0                      0     0   \n",
       "4                   3              0                      0     0   \n",
       "\n",
       "   Department_RandD  Department_accounting  Department_hr  \\\n",
       "0                 1                      0              0   \n",
       "1                 0                      0              0   \n",
       "2                 0                      0              0   \n",
       "3                 1                      0              0   \n",
       "4                 1                      0              0   \n",
       "\n",
       "   Department_management  Department_marketing  Department_product_mng  \\\n",
       "0                      0                     0                       0   \n",
       "1                      0                     0                       0   \n",
       "2                      0                     0                       0   \n",
       "3                      0                     0                       0   \n",
       "4                      0                     0                       0   \n",
       "\n",
       "   Department_sales  Department_support  Department_technical  salary_low  \\\n",
       "0                 0                   0                     0           0   \n",
       "1                 1                   0                     0           0   \n",
       "2                 1                   0                     0           1   \n",
       "3                 0                   0                     0           1   \n",
       "4                 0                   0                     0           1   \n",
       "\n",
       "   salary_medium  \n",
       "0              0  \n",
       "1              1  \n",
       "2              0  \n",
       "3              0  \n",
       "4              0  "
      ]
     },
     "execution_count": 17,
     "metadata": {},
     "output_type": "execute_result"
    }
   ],
   "source": [
    "df = pd.get_dummies(hr,drop_first=True)\n",
    "df.head()"
   ]
  },
  {
   "cell_type": "code",
   "execution_count": 18,
   "id": "defc89f1",
   "metadata": {},
   "outputs": [],
   "source": [
    "train = df.sample(frac=0.75,random_state=1)\n",
    "test = df.drop(train.index)"
   ]
  },
  {
   "cell_type": "code",
   "execution_count": 19,
   "id": "d5926dbc",
   "metadata": {},
   "outputs": [],
   "source": [
    "from sklearn.model_selection import train_test_split\n",
    "# train,test = train_test_split(df,test_size=0.25)"
   ]
  },
  {
   "cell_type": "code",
   "execution_count": 20,
   "id": "9922c90b",
   "metadata": {},
   "outputs": [
    {
     "name": "stdout",
     "output_type": "stream",
     "text": [
      "(5326, 19)\n",
      "(1775, 19)\n"
     ]
    }
   ],
   "source": [
    "print(train.shape)\n",
    "print(test.shape)"
   ]
  },
  {
   "cell_type": "code",
   "execution_count": 23,
   "id": "346521f2",
   "metadata": {},
   "outputs": [
    {
     "data": {
      "text/html": [
       "<div>\n",
       "<style scoped>\n",
       "    .dataframe tbody tr th:only-of-type {\n",
       "        vertical-align: middle;\n",
       "    }\n",
       "\n",
       "    .dataframe tbody tr th {\n",
       "        vertical-align: top;\n",
       "    }\n",
       "\n",
       "    .dataframe thead th {\n",
       "        text-align: right;\n",
       "    }\n",
       "</style>\n",
       "<table border=\"1\" class=\"dataframe\">\n",
       "  <thead>\n",
       "    <tr style=\"text-align: right;\">\n",
       "      <th></th>\n",
       "      <th>satisfaction_level</th>\n",
       "      <th>last_evaluation</th>\n",
       "      <th>number_project</th>\n",
       "      <th>average_montly_hours</th>\n",
       "      <th>time_spend_company</th>\n",
       "      <th>Work_accident</th>\n",
       "      <th>promotion_last_5years</th>\n",
       "      <th>left</th>\n",
       "      <th>Department_RandD</th>\n",
       "      <th>Department_accounting</th>\n",
       "      <th>Department_hr</th>\n",
       "      <th>Department_management</th>\n",
       "      <th>Department_marketing</th>\n",
       "      <th>Department_product_mng</th>\n",
       "      <th>Department_sales</th>\n",
       "      <th>Department_support</th>\n",
       "      <th>Department_technical</th>\n",
       "      <th>salary_low</th>\n",
       "      <th>salary_medium</th>\n",
       "    </tr>\n",
       "  </thead>\n",
       "  <tbody>\n",
       "    <tr>\n",
       "      <th>420</th>\n",
       "      <td>0.74</td>\n",
       "      <td>0.84</td>\n",
       "      <td>3</td>\n",
       "      <td>239</td>\n",
       "      <td>4</td>\n",
       "      <td>0</td>\n",
       "      <td>0</td>\n",
       "      <td>0</td>\n",
       "      <td>0</td>\n",
       "      <td>0</td>\n",
       "      <td>0</td>\n",
       "      <td>0</td>\n",
       "      <td>0</td>\n",
       "      <td>0</td>\n",
       "      <td>1</td>\n",
       "      <td>0</td>\n",
       "      <td>0</td>\n",
       "      <td>0</td>\n",
       "      <td>1</td>\n",
       "    </tr>\n",
       "    <tr>\n",
       "      <th>5914</th>\n",
       "      <td>0.41</td>\n",
       "      <td>0.56</td>\n",
       "      <td>2</td>\n",
       "      <td>143</td>\n",
       "      <td>3</td>\n",
       "      <td>0</td>\n",
       "      <td>0</td>\n",
       "      <td>1</td>\n",
       "      <td>0</td>\n",
       "      <td>0</td>\n",
       "      <td>0</td>\n",
       "      <td>0</td>\n",
       "      <td>0</td>\n",
       "      <td>0</td>\n",
       "      <td>0</td>\n",
       "      <td>0</td>\n",
       "      <td>1</td>\n",
       "      <td>0</td>\n",
       "      <td>1</td>\n",
       "    </tr>\n",
       "    <tr>\n",
       "      <th>1206</th>\n",
       "      <td>0.65</td>\n",
       "      <td>0.77</td>\n",
       "      <td>4</td>\n",
       "      <td>205</td>\n",
       "      <td>3</td>\n",
       "      <td>0</td>\n",
       "      <td>0</td>\n",
       "      <td>0</td>\n",
       "      <td>0</td>\n",
       "      <td>0</td>\n",
       "      <td>0</td>\n",
       "      <td>0</td>\n",
       "      <td>0</td>\n",
       "      <td>0</td>\n",
       "      <td>1</td>\n",
       "      <td>0</td>\n",
       "      <td>0</td>\n",
       "      <td>1</td>\n",
       "      <td>0</td>\n",
       "    </tr>\n",
       "    <tr>\n",
       "      <th>5370</th>\n",
       "      <td>0.38</td>\n",
       "      <td>0.50</td>\n",
       "      <td>2</td>\n",
       "      <td>145</td>\n",
       "      <td>3</td>\n",
       "      <td>0</td>\n",
       "      <td>0</td>\n",
       "      <td>1</td>\n",
       "      <td>0</td>\n",
       "      <td>0</td>\n",
       "      <td>0</td>\n",
       "      <td>0</td>\n",
       "      <td>0</td>\n",
       "      <td>0</td>\n",
       "      <td>0</td>\n",
       "      <td>0</td>\n",
       "      <td>1</td>\n",
       "      <td>1</td>\n",
       "      <td>0</td>\n",
       "    </tr>\n",
       "    <tr>\n",
       "      <th>2721</th>\n",
       "      <td>0.96</td>\n",
       "      <td>0.55</td>\n",
       "      <td>3</td>\n",
       "      <td>164</td>\n",
       "      <td>3</td>\n",
       "      <td>0</td>\n",
       "      <td>0</td>\n",
       "      <td>0</td>\n",
       "      <td>0</td>\n",
       "      <td>0</td>\n",
       "      <td>0</td>\n",
       "      <td>0</td>\n",
       "      <td>0</td>\n",
       "      <td>0</td>\n",
       "      <td>1</td>\n",
       "      <td>0</td>\n",
       "      <td>0</td>\n",
       "      <td>0</td>\n",
       "      <td>1</td>\n",
       "    </tr>\n",
       "  </tbody>\n",
       "</table>\n",
       "</div>"
      ],
      "text/plain": [
       "      satisfaction_level  last_evaluation  number_project  \\\n",
       "420                 0.74             0.84               3   \n",
       "5914                0.41             0.56               2   \n",
       "1206                0.65             0.77               4   \n",
       "5370                0.38             0.50               2   \n",
       "2721                0.96             0.55               3   \n",
       "\n",
       "      average_montly_hours  time_spend_company  Work_accident  \\\n",
       "420                    239                   4              0   \n",
       "5914                   143                   3              0   \n",
       "1206                   205                   3              0   \n",
       "5370                   145                   3              0   \n",
       "2721                   164                   3              0   \n",
       "\n",
       "      promotion_last_5years  left  Department_RandD  Department_accounting  \\\n",
       "420                       0     0                 0                      0   \n",
       "5914                      0     1                 0                      0   \n",
       "1206                      0     0                 0                      0   \n",
       "5370                      0     1                 0                      0   \n",
       "2721                      0     0                 0                      0   \n",
       "\n",
       "      Department_hr  Department_management  Department_marketing  \\\n",
       "420               0                      0                     0   \n",
       "5914              0                      0                     0   \n",
       "1206              0                      0                     0   \n",
       "5370              0                      0                     0   \n",
       "2721              0                      0                     0   \n",
       "\n",
       "      Department_product_mng  Department_sales  Department_support  \\\n",
       "420                        0                 1                   0   \n",
       "5914                       0                 0                   0   \n",
       "1206                       0                 1                   0   \n",
       "5370                       0                 0                   0   \n",
       "2721                       0                 1                   0   \n",
       "\n",
       "      Department_technical  salary_low  salary_medium  \n",
       "420                      0           0              1  \n",
       "5914                     1           0              1  \n",
       "1206                     0           1              0  \n",
       "5370                     1           1              0  \n",
       "2721                     0           0              1  "
      ]
     },
     "execution_count": 23,
     "metadata": {},
     "output_type": "execute_result"
    }
   ],
   "source": [
    "train.head()"
   ]
  },
  {
   "cell_type": "code",
   "execution_count": 21,
   "id": "fafa7ccf",
   "metadata": {},
   "outputs": [
    {
     "data": {
      "text/plain": [
       "0    0.501314\n",
       "1    0.498686\n",
       "Name: left, dtype: float64"
      ]
     },
     "execution_count": 21,
     "metadata": {},
     "output_type": "execute_result"
    }
   ],
   "source": [
    "train['left'].value_counts(normalize=True)"
   ]
  },
  {
   "cell_type": "code",
   "execution_count": 22,
   "id": "621c405e",
   "metadata": {},
   "outputs": [
    {
     "data": {
      "text/plain": [
       "0    0.507606\n",
       "1    0.492394\n",
       "Name: left, dtype: float64"
      ]
     },
     "execution_count": 22,
     "metadata": {},
     "output_type": "execute_result"
    }
   ],
   "source": [
    "test['left'].value_counts(normalize=True)"
   ]
  },
  {
   "cell_type": "code",
   "execution_count": 25,
   "id": "9346432d",
   "metadata": {},
   "outputs": [
    {
     "data": {
      "text/plain": [
       "Index(['satisfaction_level', 'last_evaluation', 'number_project',\n",
       "       'average_montly_hours', 'time_spend_company', 'Work_accident',\n",
       "       'promotion_last_5years', 'left', 'Department_RandD',\n",
       "       'Department_accounting', 'Department_hr', 'Department_management',\n",
       "       'Department_marketing', 'Department_product_mng', 'Department_sales',\n",
       "       'Department_support', 'Department_technical', 'salary_low',\n",
       "       'salary_medium'],\n",
       "      dtype='object')"
      ]
     },
     "execution_count": 25,
     "metadata": {},
     "output_type": "execute_result"
    }
   ],
   "source": [
    "train.columns"
   ]
  },
  {
   "cell_type": "code",
   "execution_count": 24,
   "id": "2388e87f",
   "metadata": {},
   "outputs": [],
   "source": [
    "import statsmodels.formula.api as smf"
   ]
  },
  {
   "cell_type": "code",
   "execution_count": 27,
   "id": "571b86ee",
   "metadata": {},
   "outputs": [],
   "source": [
    "glm1 = smf.glm('left~satisfaction_level+last_evaluation+number_project+average_montly_hours+time_spend_company+Work_accident+promotion_last_5years+Department_RandD+Department_accounting+Department_hr+Department_management+Department_marketing+Department_product_mng+Department_sales+Department_support+Department_technical+salary_low+salary_medium',data=train,family=sm.families.Binomial()).fit()"
   ]
  },
  {
   "cell_type": "code",
   "execution_count": 28,
   "id": "494d925c",
   "metadata": {},
   "outputs": [
    {
     "data": {
      "text/html": [
       "<table class=\"simpletable\">\n",
       "<caption>Generalized Linear Model Regression Results</caption>\n",
       "<tr>\n",
       "  <th>Dep. Variable:</th>         <td>left</td>       <th>  No. Observations:  </th>  <td>  5326</td> \n",
       "</tr>\n",
       "<tr>\n",
       "  <th>Model:</th>                  <td>GLM</td>       <th>  Df Residuals:      </th>  <td>  5307</td> \n",
       "</tr>\n",
       "<tr>\n",
       "  <th>Model Family:</th>        <td>Binomial</td>     <th>  Df Model:          </th>  <td>    18</td> \n",
       "</tr>\n",
       "<tr>\n",
       "  <th>Link Function:</th>         <td>logit</td>      <th>  Scale:             </th> <td>  1.0000</td>\n",
       "</tr>\n",
       "<tr>\n",
       "  <th>Method:</th>                <td>IRLS</td>       <th>  Log-Likelihood:    </th> <td> -2764.4</td>\n",
       "</tr>\n",
       "<tr>\n",
       "  <th>Date:</th>            <td>Fri, 18 Feb 2022</td> <th>  Deviance:          </th> <td>  5528.7</td>\n",
       "</tr>\n",
       "<tr>\n",
       "  <th>Time:</th>                <td>11:34:39</td>     <th>  Pearson chi2:      </th> <td>6.39e+03</td>\n",
       "</tr>\n",
       "<tr>\n",
       "  <th>No. Iterations:</th>          <td>5</td>        <th>                     </th>     <td> </td>   \n",
       "</tr>\n",
       "<tr>\n",
       "  <th>Covariance Type:</th>     <td>nonrobust</td>    <th>                     </th>     <td> </td>   \n",
       "</tr>\n",
       "</table>\n",
       "<table class=\"simpletable\">\n",
       "<tr>\n",
       "             <td></td>               <th>coef</th>     <th>std err</th>      <th>z</th>      <th>P>|z|</th>  <th>[0.025</th>    <th>0.975]</th>  \n",
       "</tr>\n",
       "<tr>\n",
       "  <th>Intercept</th>              <td>   -1.0380</td> <td>    0.261</td> <td>   -3.979</td> <td> 0.000</td> <td>   -1.549</td> <td>   -0.527</td>\n",
       "</tr>\n",
       "<tr>\n",
       "  <th>satisfaction_level</th>     <td>   -4.3948</td> <td>    0.154</td> <td>  -28.525</td> <td> 0.000</td> <td>   -4.697</td> <td>   -4.093</td>\n",
       "</tr>\n",
       "<tr>\n",
       "  <th>last_evaluation</th>        <td>    1.3778</td> <td>    0.249</td> <td>    5.525</td> <td> 0.000</td> <td>    0.889</td> <td>    1.867</td>\n",
       "</tr>\n",
       "<tr>\n",
       "  <th>number_project</th>         <td>   -0.4373</td> <td>    0.035</td> <td>  -12.515</td> <td> 0.000</td> <td>   -0.506</td> <td>   -0.369</td>\n",
       "</tr>\n",
       "<tr>\n",
       "  <th>average_montly_hours</th>   <td>    0.0046</td> <td>    0.001</td> <td>    5.251</td> <td> 0.000</td> <td>    0.003</td> <td>    0.006</td>\n",
       "</tr>\n",
       "<tr>\n",
       "  <th>time_spend_company</th>     <td>    0.4506</td> <td>    0.029</td> <td>   15.434</td> <td> 0.000</td> <td>    0.393</td> <td>    0.508</td>\n",
       "</tr>\n",
       "<tr>\n",
       "  <th>Work_accident</th>          <td>   -1.5759</td> <td>    0.125</td> <td>  -12.636</td> <td> 0.000</td> <td>   -1.820</td> <td>   -1.332</td>\n",
       "</tr>\n",
       "<tr>\n",
       "  <th>promotion_last_5years</th>  <td>   -1.8654</td> <td>    0.371</td> <td>   -5.023</td> <td> 0.000</td> <td>   -2.593</td> <td>   -1.138</td>\n",
       "</tr>\n",
       "<tr>\n",
       "  <th>Department_RandD</th>       <td>   -0.4970</td> <td>    0.197</td> <td>   -2.527</td> <td> 0.012</td> <td>   -0.882</td> <td>   -0.112</td>\n",
       "</tr>\n",
       "<tr>\n",
       "  <th>Department_accounting</th>  <td>    0.2498</td> <td>    0.185</td> <td>    1.353</td> <td> 0.176</td> <td>   -0.112</td> <td>    0.612</td>\n",
       "</tr>\n",
       "<tr>\n",
       "  <th>Department_hr</th>          <td>    0.5011</td> <td>    0.185</td> <td>    2.707</td> <td> 0.007</td> <td>    0.138</td> <td>    0.864</td>\n",
       "</tr>\n",
       "<tr>\n",
       "  <th>Department_management</th>  <td>   -0.5148</td> <td>    0.212</td> <td>   -2.429</td> <td> 0.015</td> <td>   -0.930</td> <td>   -0.099</td>\n",
       "</tr>\n",
       "<tr>\n",
       "  <th>Department_marketing</th>   <td>    0.2058</td> <td>    0.186</td> <td>    1.107</td> <td> 0.268</td> <td>   -0.158</td> <td>    0.570</td>\n",
       "</tr>\n",
       "<tr>\n",
       "  <th>Department_product_mng</th> <td>    0.0097</td> <td>    0.175</td> <td>    0.056</td> <td> 0.956</td> <td>   -0.333</td> <td>    0.352</td>\n",
       "</tr>\n",
       "<tr>\n",
       "  <th>Department_sales</th>       <td>    0.0700</td> <td>    0.131</td> <td>    0.533</td> <td> 0.594</td> <td>   -0.187</td> <td>    0.327</td>\n",
       "</tr>\n",
       "<tr>\n",
       "  <th>Department_support</th>     <td>    0.2236</td> <td>    0.143</td> <td>    1.561</td> <td> 0.119</td> <td>   -0.057</td> <td>    0.504</td>\n",
       "</tr>\n",
       "<tr>\n",
       "  <th>Department_technical</th>   <td>    0.2230</td> <td>    0.139</td> <td>    1.610</td> <td> 0.107</td> <td>   -0.049</td> <td>    0.494</td>\n",
       "</tr>\n",
       "<tr>\n",
       "  <th>salary_low</th>             <td>    1.9416</td> <td>    0.184</td> <td>   10.546</td> <td> 0.000</td> <td>    1.581</td> <td>    2.302</td>\n",
       "</tr>\n",
       "<tr>\n",
       "  <th>salary_medium</th>          <td>    1.3347</td> <td>    0.185</td> <td>    7.232</td> <td> 0.000</td> <td>    0.973</td> <td>    1.696</td>\n",
       "</tr>\n",
       "</table>"
      ],
      "text/plain": [
       "<class 'statsmodels.iolib.summary.Summary'>\n",
       "\"\"\"\n",
       "                 Generalized Linear Model Regression Results                  \n",
       "==============================================================================\n",
       "Dep. Variable:                   left   No. Observations:                 5326\n",
       "Model:                            GLM   Df Residuals:                     5307\n",
       "Model Family:                Binomial   Df Model:                           18\n",
       "Link Function:                  logit   Scale:                          1.0000\n",
       "Method:                          IRLS   Log-Likelihood:                -2764.4\n",
       "Date:                Fri, 18 Feb 2022   Deviance:                       5528.7\n",
       "Time:                        11:34:39   Pearson chi2:                 6.39e+03\n",
       "No. Iterations:                     5                                         \n",
       "Covariance Type:            nonrobust                                         \n",
       "==========================================================================================\n",
       "                             coef    std err          z      P>|z|      [0.025      0.975]\n",
       "------------------------------------------------------------------------------------------\n",
       "Intercept                 -1.0380      0.261     -3.979      0.000      -1.549      -0.527\n",
       "satisfaction_level        -4.3948      0.154    -28.525      0.000      -4.697      -4.093\n",
       "last_evaluation            1.3778      0.249      5.525      0.000       0.889       1.867\n",
       "number_project            -0.4373      0.035    -12.515      0.000      -0.506      -0.369\n",
       "average_montly_hours       0.0046      0.001      5.251      0.000       0.003       0.006\n",
       "time_spend_company         0.4506      0.029     15.434      0.000       0.393       0.508\n",
       "Work_accident             -1.5759      0.125    -12.636      0.000      -1.820      -1.332\n",
       "promotion_last_5years     -1.8654      0.371     -5.023      0.000      -2.593      -1.138\n",
       "Department_RandD          -0.4970      0.197     -2.527      0.012      -0.882      -0.112\n",
       "Department_accounting      0.2498      0.185      1.353      0.176      -0.112       0.612\n",
       "Department_hr              0.5011      0.185      2.707      0.007       0.138       0.864\n",
       "Department_management     -0.5148      0.212     -2.429      0.015      -0.930      -0.099\n",
       "Department_marketing       0.2058      0.186      1.107      0.268      -0.158       0.570\n",
       "Department_product_mng     0.0097      0.175      0.056      0.956      -0.333       0.352\n",
       "Department_sales           0.0700      0.131      0.533      0.594      -0.187       0.327\n",
       "Department_support         0.2236      0.143      1.561      0.119      -0.057       0.504\n",
       "Department_technical       0.2230      0.139      1.610      0.107      -0.049       0.494\n",
       "salary_low                 1.9416      0.184     10.546      0.000       1.581       2.302\n",
       "salary_medium              1.3347      0.185      7.232      0.000       0.973       1.696\n",
       "==========================================================================================\n",
       "\"\"\""
      ]
     },
     "execution_count": 28,
     "metadata": {},
     "output_type": "execute_result"
    }
   ],
   "source": [
    "glm1.summary()"
   ]
  },
  {
   "cell_type": "code",
   "execution_count": 33,
   "id": "4cce32e0",
   "metadata": {},
   "outputs": [],
   "source": [
    "glm2 = smf.glm('left~satisfaction_level+last_evaluation+number_project+average_montly_hours+time_spend_company+Work_accident+promotion_last_5years+Department_RandD+Department_hr+Department_management+salary_low+salary_medium',data=train,family=sm.families.Binomial()).fit()"
   ]
  },
  {
   "cell_type": "code",
   "execution_count": 34,
   "id": "b922a7e5",
   "metadata": {},
   "outputs": [
    {
     "data": {
      "text/html": [
       "<table class=\"simpletable\">\n",
       "<caption>Generalized Linear Model Regression Results</caption>\n",
       "<tr>\n",
       "  <th>Dep. Variable:</th>         <td>left</td>       <th>  No. Observations:  </th>  <td>  5326</td> \n",
       "</tr>\n",
       "<tr>\n",
       "  <th>Model:</th>                  <td>GLM</td>       <th>  Df Residuals:      </th>  <td>  5313</td> \n",
       "</tr>\n",
       "<tr>\n",
       "  <th>Model Family:</th>        <td>Binomial</td>     <th>  Df Model:          </th>  <td>    12</td> \n",
       "</tr>\n",
       "<tr>\n",
       "  <th>Link Function:</th>         <td>logit</td>      <th>  Scale:             </th> <td>  1.0000</td>\n",
       "</tr>\n",
       "<tr>\n",
       "  <th>Method:</th>                <td>IRLS</td>       <th>  Log-Likelihood:    </th> <td> -2767.7</td>\n",
       "</tr>\n",
       "<tr>\n",
       "  <th>Date:</th>            <td>Fri, 18 Feb 2022</td> <th>  Deviance:          </th> <td>  5535.4</td>\n",
       "</tr>\n",
       "<tr>\n",
       "  <th>Time:</th>                <td>12:06:20</td>     <th>  Pearson chi2:      </th> <td>6.40e+03</td>\n",
       "</tr>\n",
       "<tr>\n",
       "  <th>No. Iterations:</th>          <td>5</td>        <th>                     </th>     <td> </td>   \n",
       "</tr>\n",
       "<tr>\n",
       "  <th>Covariance Type:</th>     <td>nonrobust</td>    <th>                     </th>     <td> </td>   \n",
       "</tr>\n",
       "</table>\n",
       "<table class=\"simpletable\">\n",
       "<tr>\n",
       "            <td></td>               <th>coef</th>     <th>std err</th>      <th>z</th>      <th>P>|z|</th>  <th>[0.025</th>    <th>0.975]</th>  \n",
       "</tr>\n",
       "<tr>\n",
       "  <th>Intercept</th>             <td>   -0.8954</td> <td>    0.235</td> <td>   -3.804</td> <td> 0.000</td> <td>   -1.357</td> <td>   -0.434</td>\n",
       "</tr>\n",
       "<tr>\n",
       "  <th>satisfaction_level</th>    <td>   -4.3997</td> <td>    0.154</td> <td>  -28.607</td> <td> 0.000</td> <td>   -4.701</td> <td>   -4.098</td>\n",
       "</tr>\n",
       "<tr>\n",
       "  <th>last_evaluation</th>       <td>    1.3903</td> <td>    0.249</td> <td>    5.584</td> <td> 0.000</td> <td>    0.902</td> <td>    1.878</td>\n",
       "</tr>\n",
       "<tr>\n",
       "  <th>number_project</th>        <td>   -0.4378</td> <td>    0.035</td> <td>  -12.561</td> <td> 0.000</td> <td>   -0.506</td> <td>   -0.369</td>\n",
       "</tr>\n",
       "<tr>\n",
       "  <th>average_montly_hours</th>  <td>    0.0046</td> <td>    0.001</td> <td>    5.285</td> <td> 0.000</td> <td>    0.003</td> <td>    0.006</td>\n",
       "</tr>\n",
       "<tr>\n",
       "  <th>time_spend_company</th>    <td>    0.4489</td> <td>    0.029</td> <td>   15.406</td> <td> 0.000</td> <td>    0.392</td> <td>    0.506</td>\n",
       "</tr>\n",
       "<tr>\n",
       "  <th>Work_accident</th>         <td>   -1.5682</td> <td>    0.124</td> <td>  -12.599</td> <td> 0.000</td> <td>   -1.812</td> <td>   -1.324</td>\n",
       "</tr>\n",
       "<tr>\n",
       "  <th>promotion_last_5years</th> <td>   -1.8481</td> <td>    0.369</td> <td>   -5.010</td> <td> 0.000</td> <td>   -2.571</td> <td>   -1.125</td>\n",
       "</tr>\n",
       "<tr>\n",
       "  <th>Department_RandD</th>      <td>   -0.6357</td> <td>    0.163</td> <td>   -3.905</td> <td> 0.000</td> <td>   -0.955</td> <td>   -0.317</td>\n",
       "</tr>\n",
       "<tr>\n",
       "  <th>Department_hr</th>         <td>    0.3619</td> <td>    0.149</td> <td>    2.436</td> <td> 0.015</td> <td>    0.071</td> <td>    0.653</td>\n",
       "</tr>\n",
       "<tr>\n",
       "  <th>Department_management</th> <td>   -0.6539</td> <td>    0.181</td> <td>   -3.617</td> <td> 0.000</td> <td>   -1.008</td> <td>   -0.300</td>\n",
       "</tr>\n",
       "<tr>\n",
       "  <th>salary_low</th>            <td>    1.9305</td> <td>    0.184</td> <td>   10.492</td> <td> 0.000</td> <td>    1.570</td> <td>    2.291</td>\n",
       "</tr>\n",
       "<tr>\n",
       "  <th>salary_medium</th>         <td>    1.3316</td> <td>    0.185</td> <td>    7.212</td> <td> 0.000</td> <td>    0.970</td> <td>    1.694</td>\n",
       "</tr>\n",
       "</table>"
      ],
      "text/plain": [
       "<class 'statsmodels.iolib.summary.Summary'>\n",
       "\"\"\"\n",
       "                 Generalized Linear Model Regression Results                  \n",
       "==============================================================================\n",
       "Dep. Variable:                   left   No. Observations:                 5326\n",
       "Model:                            GLM   Df Residuals:                     5313\n",
       "Model Family:                Binomial   Df Model:                           12\n",
       "Link Function:                  logit   Scale:                          1.0000\n",
       "Method:                          IRLS   Log-Likelihood:                -2767.7\n",
       "Date:                Fri, 18 Feb 2022   Deviance:                       5535.4\n",
       "Time:                        12:06:20   Pearson chi2:                 6.40e+03\n",
       "No. Iterations:                     5                                         \n",
       "Covariance Type:            nonrobust                                         \n",
       "=========================================================================================\n",
       "                            coef    std err          z      P>|z|      [0.025      0.975]\n",
       "-----------------------------------------------------------------------------------------\n",
       "Intercept                -0.8954      0.235     -3.804      0.000      -1.357      -0.434\n",
       "satisfaction_level       -4.3997      0.154    -28.607      0.000      -4.701      -4.098\n",
       "last_evaluation           1.3903      0.249      5.584      0.000       0.902       1.878\n",
       "number_project           -0.4378      0.035    -12.561      0.000      -0.506      -0.369\n",
       "average_montly_hours      0.0046      0.001      5.285      0.000       0.003       0.006\n",
       "time_spend_company        0.4489      0.029     15.406      0.000       0.392       0.506\n",
       "Work_accident            -1.5682      0.124    -12.599      0.000      -1.812      -1.324\n",
       "promotion_last_5years    -1.8481      0.369     -5.010      0.000      -2.571      -1.125\n",
       "Department_RandD         -0.6357      0.163     -3.905      0.000      -0.955      -0.317\n",
       "Department_hr             0.3619      0.149      2.436      0.015       0.071       0.653\n",
       "Department_management    -0.6539      0.181     -3.617      0.000      -1.008      -0.300\n",
       "salary_low                1.9305      0.184     10.492      0.000       1.570       2.291\n",
       "salary_medium             1.3316      0.185      7.212      0.000       0.970       1.694\n",
       "=========================================================================================\n",
       "\"\"\""
      ]
     },
     "execution_count": 34,
     "metadata": {},
     "output_type": "execute_result"
    }
   ],
   "source": [
    "glm2.summary()"
   ]
  },
  {
   "cell_type": "code",
   "execution_count": 35,
   "id": "33d38171",
   "metadata": {},
   "outputs": [
    {
     "data": {
      "text/html": [
       "<div>\n",
       "<style scoped>\n",
       "    .dataframe tbody tr th:only-of-type {\n",
       "        vertical-align: middle;\n",
       "    }\n",
       "\n",
       "    .dataframe tbody tr th {\n",
       "        vertical-align: top;\n",
       "    }\n",
       "\n",
       "    .dataframe thead th {\n",
       "        text-align: right;\n",
       "    }\n",
       "</style>\n",
       "<table border=\"1\" class=\"dataframe\">\n",
       "  <thead>\n",
       "    <tr style=\"text-align: right;\">\n",
       "      <th></th>\n",
       "      <th>satisfaction_level</th>\n",
       "      <th>last_evaluation</th>\n",
       "      <th>number_project</th>\n",
       "      <th>average_montly_hours</th>\n",
       "      <th>time_spend_company</th>\n",
       "      <th>Work_accident</th>\n",
       "      <th>promotion_last_5years</th>\n",
       "      <th>left</th>\n",
       "      <th>Department_RandD</th>\n",
       "      <th>Department_accounting</th>\n",
       "      <th>Department_hr</th>\n",
       "      <th>Department_management</th>\n",
       "      <th>Department_marketing</th>\n",
       "      <th>Department_product_mng</th>\n",
       "      <th>Department_sales</th>\n",
       "      <th>Department_support</th>\n",
       "      <th>Department_technical</th>\n",
       "      <th>salary_low</th>\n",
       "      <th>salary_medium</th>\n",
       "      <th>prob</th>\n",
       "    </tr>\n",
       "  </thead>\n",
       "  <tbody>\n",
       "    <tr>\n",
       "      <th>0</th>\n",
       "      <td>0.44</td>\n",
       "      <td>0.66</td>\n",
       "      <td>6</td>\n",
       "      <td>134</td>\n",
       "      <td>8</td>\n",
       "      <td>0</td>\n",
       "      <td>0</td>\n",
       "      <td>0</td>\n",
       "      <td>1</td>\n",
       "      <td>0</td>\n",
       "      <td>0</td>\n",
       "      <td>0</td>\n",
       "      <td>0</td>\n",
       "      <td>0</td>\n",
       "      <td>0</td>\n",
       "      <td>0</td>\n",
       "      <td>0</td>\n",
       "      <td>0</td>\n",
       "      <td>0</td>\n",
       "      <td>0.276188</td>\n",
       "    </tr>\n",
       "    <tr>\n",
       "      <th>2</th>\n",
       "      <td>0.50</td>\n",
       "      <td>0.81</td>\n",
       "      <td>3</td>\n",
       "      <td>148</td>\n",
       "      <td>2</td>\n",
       "      <td>0</td>\n",
       "      <td>0</td>\n",
       "      <td>0</td>\n",
       "      <td>0</td>\n",
       "      <td>0</td>\n",
       "      <td>0</td>\n",
       "      <td>0</td>\n",
       "      <td>0</td>\n",
       "      <td>0</td>\n",
       "      <td>1</td>\n",
       "      <td>0</td>\n",
       "      <td>0</td>\n",
       "      <td>1</td>\n",
       "      <td>0</td>\n",
       "      <td>0.557839</td>\n",
       "    </tr>\n",
       "    <tr>\n",
       "      <th>14</th>\n",
       "      <td>0.52</td>\n",
       "      <td>0.80</td>\n",
       "      <td>5</td>\n",
       "      <td>209</td>\n",
       "      <td>2</td>\n",
       "      <td>0</td>\n",
       "      <td>0</td>\n",
       "      <td>0</td>\n",
       "      <td>0</td>\n",
       "      <td>0</td>\n",
       "      <td>0</td>\n",
       "      <td>0</td>\n",
       "      <td>0</td>\n",
       "      <td>0</td>\n",
       "      <td>0</td>\n",
       "      <td>1</td>\n",
       "      <td>0</td>\n",
       "      <td>1</td>\n",
       "      <td>0</td>\n",
       "      <td>0.386498</td>\n",
       "    </tr>\n",
       "    <tr>\n",
       "      <th>15</th>\n",
       "      <td>0.23</td>\n",
       "      <td>0.99</td>\n",
       "      <td>5</td>\n",
       "      <td>176</td>\n",
       "      <td>4</td>\n",
       "      <td>1</td>\n",
       "      <td>0</td>\n",
       "      <td>0</td>\n",
       "      <td>0</td>\n",
       "      <td>0</td>\n",
       "      <td>0</td>\n",
       "      <td>0</td>\n",
       "      <td>0</td>\n",
       "      <td>0</td>\n",
       "      <td>1</td>\n",
       "      <td>0</td>\n",
       "      <td>0</td>\n",
       "      <td>1</td>\n",
       "      <td>0</td>\n",
       "      <td>0.563269</td>\n",
       "    </tr>\n",
       "    <tr>\n",
       "      <th>18</th>\n",
       "      <td>0.69</td>\n",
       "      <td>0.90</td>\n",
       "      <td>6</td>\n",
       "      <td>224</td>\n",
       "      <td>4</td>\n",
       "      <td>0</td>\n",
       "      <td>1</td>\n",
       "      <td>0</td>\n",
       "      <td>1</td>\n",
       "      <td>0</td>\n",
       "      <td>0</td>\n",
       "      <td>0</td>\n",
       "      <td>0</td>\n",
       "      <td>0</td>\n",
       "      <td>0</td>\n",
       "      <td>0</td>\n",
       "      <td>0</td>\n",
       "      <td>1</td>\n",
       "      <td>0</td>\n",
       "      <td>0.046300</td>\n",
       "    </tr>\n",
       "  </tbody>\n",
       "</table>\n",
       "</div>"
      ],
      "text/plain": [
       "    satisfaction_level  last_evaluation  number_project  average_montly_hours  \\\n",
       "0                 0.44             0.66               6                   134   \n",
       "2                 0.50             0.81               3                   148   \n",
       "14                0.52             0.80               5                   209   \n",
       "15                0.23             0.99               5                   176   \n",
       "18                0.69             0.90               6                   224   \n",
       "\n",
       "    time_spend_company  Work_accident  promotion_last_5years  left  \\\n",
       "0                    8              0                      0     0   \n",
       "2                    2              0                      0     0   \n",
       "14                   2              0                      0     0   \n",
       "15                   4              1                      0     0   \n",
       "18                   4              0                      1     0   \n",
       "\n",
       "    Department_RandD  Department_accounting  Department_hr  \\\n",
       "0                  1                      0              0   \n",
       "2                  0                      0              0   \n",
       "14                 0                      0              0   \n",
       "15                 0                      0              0   \n",
       "18                 1                      0              0   \n",
       "\n",
       "    Department_management  Department_marketing  Department_product_mng  \\\n",
       "0                       0                     0                       0   \n",
       "2                       0                     0                       0   \n",
       "14                      0                     0                       0   \n",
       "15                      0                     0                       0   \n",
       "18                      0                     0                       0   \n",
       "\n",
       "    Department_sales  Department_support  Department_technical  salary_low  \\\n",
       "0                  0                   0                     0           0   \n",
       "2                  1                   0                     0           1   \n",
       "14                 0                   1                     0           1   \n",
       "15                 1                   0                     0           1   \n",
       "18                 0                   0                     0           1   \n",
       "\n",
       "    salary_medium      prob  \n",
       "0               0  0.276188  \n",
       "2               0  0.557839  \n",
       "14              0  0.386498  \n",
       "15              0  0.563269  \n",
       "18              0  0.046300  "
      ]
     },
     "execution_count": 35,
     "metadata": {},
     "output_type": "execute_result"
    }
   ],
   "source": [
    "test['prob'] = glm2.predict(test)\n",
    "test.head()"
   ]
  },
  {
   "cell_type": "code",
   "execution_count": 36,
   "id": "9c5dff21",
   "metadata": {},
   "outputs": [
    {
     "data": {
      "text/html": [
       "<div>\n",
       "<style scoped>\n",
       "    .dataframe tbody tr th:only-of-type {\n",
       "        vertical-align: middle;\n",
       "    }\n",
       "\n",
       "    .dataframe tbody tr th {\n",
       "        vertical-align: top;\n",
       "    }\n",
       "\n",
       "    .dataframe thead th {\n",
       "        text-align: right;\n",
       "    }\n",
       "</style>\n",
       "<table border=\"1\" class=\"dataframe\">\n",
       "  <thead>\n",
       "    <tr style=\"text-align: right;\">\n",
       "      <th></th>\n",
       "      <th>satisfaction_level</th>\n",
       "      <th>last_evaluation</th>\n",
       "      <th>number_project</th>\n",
       "      <th>average_montly_hours</th>\n",
       "      <th>time_spend_company</th>\n",
       "      <th>Work_accident</th>\n",
       "      <th>promotion_last_5years</th>\n",
       "      <th>left</th>\n",
       "      <th>Department_RandD</th>\n",
       "      <th>Department_accounting</th>\n",
       "      <th>...</th>\n",
       "      <th>Department_management</th>\n",
       "      <th>Department_marketing</th>\n",
       "      <th>Department_product_mng</th>\n",
       "      <th>Department_sales</th>\n",
       "      <th>Department_support</th>\n",
       "      <th>Department_technical</th>\n",
       "      <th>salary_low</th>\n",
       "      <th>salary_medium</th>\n",
       "      <th>prob</th>\n",
       "      <th>y_pred</th>\n",
       "    </tr>\n",
       "  </thead>\n",
       "  <tbody>\n",
       "    <tr>\n",
       "      <th>0</th>\n",
       "      <td>0.44</td>\n",
       "      <td>0.66</td>\n",
       "      <td>6</td>\n",
       "      <td>134</td>\n",
       "      <td>8</td>\n",
       "      <td>0</td>\n",
       "      <td>0</td>\n",
       "      <td>0</td>\n",
       "      <td>1</td>\n",
       "      <td>0</td>\n",
       "      <td>...</td>\n",
       "      <td>0</td>\n",
       "      <td>0</td>\n",
       "      <td>0</td>\n",
       "      <td>0</td>\n",
       "      <td>0</td>\n",
       "      <td>0</td>\n",
       "      <td>0</td>\n",
       "      <td>0</td>\n",
       "      <td>0.276188</td>\n",
       "      <td>0</td>\n",
       "    </tr>\n",
       "    <tr>\n",
       "      <th>2</th>\n",
       "      <td>0.50</td>\n",
       "      <td>0.81</td>\n",
       "      <td>3</td>\n",
       "      <td>148</td>\n",
       "      <td>2</td>\n",
       "      <td>0</td>\n",
       "      <td>0</td>\n",
       "      <td>0</td>\n",
       "      <td>0</td>\n",
       "      <td>0</td>\n",
       "      <td>...</td>\n",
       "      <td>0</td>\n",
       "      <td>0</td>\n",
       "      <td>0</td>\n",
       "      <td>1</td>\n",
       "      <td>0</td>\n",
       "      <td>0</td>\n",
       "      <td>1</td>\n",
       "      <td>0</td>\n",
       "      <td>0.557839</td>\n",
       "      <td>1</td>\n",
       "    </tr>\n",
       "    <tr>\n",
       "      <th>14</th>\n",
       "      <td>0.52</td>\n",
       "      <td>0.80</td>\n",
       "      <td>5</td>\n",
       "      <td>209</td>\n",
       "      <td>2</td>\n",
       "      <td>0</td>\n",
       "      <td>0</td>\n",
       "      <td>0</td>\n",
       "      <td>0</td>\n",
       "      <td>0</td>\n",
       "      <td>...</td>\n",
       "      <td>0</td>\n",
       "      <td>0</td>\n",
       "      <td>0</td>\n",
       "      <td>0</td>\n",
       "      <td>1</td>\n",
       "      <td>0</td>\n",
       "      <td>1</td>\n",
       "      <td>0</td>\n",
       "      <td>0.386498</td>\n",
       "      <td>0</td>\n",
       "    </tr>\n",
       "    <tr>\n",
       "      <th>15</th>\n",
       "      <td>0.23</td>\n",
       "      <td>0.99</td>\n",
       "      <td>5</td>\n",
       "      <td>176</td>\n",
       "      <td>4</td>\n",
       "      <td>1</td>\n",
       "      <td>0</td>\n",
       "      <td>0</td>\n",
       "      <td>0</td>\n",
       "      <td>0</td>\n",
       "      <td>...</td>\n",
       "      <td>0</td>\n",
       "      <td>0</td>\n",
       "      <td>0</td>\n",
       "      <td>1</td>\n",
       "      <td>0</td>\n",
       "      <td>0</td>\n",
       "      <td>1</td>\n",
       "      <td>0</td>\n",
       "      <td>0.563269</td>\n",
       "      <td>1</td>\n",
       "    </tr>\n",
       "    <tr>\n",
       "      <th>18</th>\n",
       "      <td>0.69</td>\n",
       "      <td>0.90</td>\n",
       "      <td>6</td>\n",
       "      <td>224</td>\n",
       "      <td>4</td>\n",
       "      <td>0</td>\n",
       "      <td>1</td>\n",
       "      <td>0</td>\n",
       "      <td>1</td>\n",
       "      <td>0</td>\n",
       "      <td>...</td>\n",
       "      <td>0</td>\n",
       "      <td>0</td>\n",
       "      <td>0</td>\n",
       "      <td>0</td>\n",
       "      <td>0</td>\n",
       "      <td>0</td>\n",
       "      <td>1</td>\n",
       "      <td>0</td>\n",
       "      <td>0.046300</td>\n",
       "      <td>0</td>\n",
       "    </tr>\n",
       "  </tbody>\n",
       "</table>\n",
       "<p>5 rows × 21 columns</p>\n",
       "</div>"
      ],
      "text/plain": [
       "    satisfaction_level  last_evaluation  number_project  average_montly_hours  \\\n",
       "0                 0.44             0.66               6                   134   \n",
       "2                 0.50             0.81               3                   148   \n",
       "14                0.52             0.80               5                   209   \n",
       "15                0.23             0.99               5                   176   \n",
       "18                0.69             0.90               6                   224   \n",
       "\n",
       "    time_spend_company  Work_accident  promotion_last_5years  left  \\\n",
       "0                    8              0                      0     0   \n",
       "2                    2              0                      0     0   \n",
       "14                   2              0                      0     0   \n",
       "15                   4              1                      0     0   \n",
       "18                   4              0                      1     0   \n",
       "\n",
       "    Department_RandD  Department_accounting  ...  Department_management  \\\n",
       "0                  1                      0  ...                      0   \n",
       "2                  0                      0  ...                      0   \n",
       "14                 0                      0  ...                      0   \n",
       "15                 0                      0  ...                      0   \n",
       "18                 1                      0  ...                      0   \n",
       "\n",
       "    Department_marketing  Department_product_mng  Department_sales  \\\n",
       "0                      0                       0                 0   \n",
       "2                      0                       0                 1   \n",
       "14                     0                       0                 0   \n",
       "15                     0                       0                 1   \n",
       "18                     0                       0                 0   \n",
       "\n",
       "    Department_support  Department_technical  salary_low  salary_medium  \\\n",
       "0                    0                     0           0              0   \n",
       "2                    0                     0           1              0   \n",
       "14                   1                     0           1              0   \n",
       "15                   0                     0           1              0   \n",
       "18                   0                     0           1              0   \n",
       "\n",
       "        prob  y_pred  \n",
       "0   0.276188       0  \n",
       "2   0.557839       1  \n",
       "14  0.386498       0  \n",
       "15  0.563269       1  \n",
       "18  0.046300       0  \n",
       "\n",
       "[5 rows x 21 columns]"
      ]
     },
     "execution_count": 36,
     "metadata": {},
     "output_type": "execute_result"
    }
   ],
   "source": [
    "pred_y =test['prob'].map(lambda x: 1 if x>=0.5 else 0)\n",
    "test['y_pred'] = pred_y\n",
    "test.head()"
   ]
  },
  {
   "cell_type": "code",
   "execution_count": 38,
   "id": "02067ae8",
   "metadata": {},
   "outputs": [],
   "source": [
    "# Logistic Regression using sklearn\n",
    "from sklearn.linear_model import LogisticRegression\n",
    "from sklearn.model_selection import train_test_split"
   ]
  },
  {
   "cell_type": "code",
   "execution_count": 39,
   "id": "750b1897",
   "metadata": {},
   "outputs": [
    {
     "data": {
      "text/html": [
       "<div>\n",
       "<style scoped>\n",
       "    .dataframe tbody tr th:only-of-type {\n",
       "        vertical-align: middle;\n",
       "    }\n",
       "\n",
       "    .dataframe tbody tr th {\n",
       "        vertical-align: top;\n",
       "    }\n",
       "\n",
       "    .dataframe thead th {\n",
       "        text-align: right;\n",
       "    }\n",
       "</style>\n",
       "<table border=\"1\" class=\"dataframe\">\n",
       "  <thead>\n",
       "    <tr style=\"text-align: right;\">\n",
       "      <th></th>\n",
       "      <th>satisfaction_level</th>\n",
       "      <th>last_evaluation</th>\n",
       "      <th>number_project</th>\n",
       "      <th>average_montly_hours</th>\n",
       "      <th>time_spend_company</th>\n",
       "      <th>Work_accident</th>\n",
       "      <th>promotion_last_5years</th>\n",
       "      <th>left</th>\n",
       "      <th>Department_RandD</th>\n",
       "      <th>Department_accounting</th>\n",
       "      <th>Department_hr</th>\n",
       "      <th>Department_management</th>\n",
       "      <th>Department_marketing</th>\n",
       "      <th>Department_product_mng</th>\n",
       "      <th>Department_sales</th>\n",
       "      <th>Department_support</th>\n",
       "      <th>Department_technical</th>\n",
       "      <th>salary_low</th>\n",
       "      <th>salary_medium</th>\n",
       "    </tr>\n",
       "  </thead>\n",
       "  <tbody>\n",
       "    <tr>\n",
       "      <th>0</th>\n",
       "      <td>0.44</td>\n",
       "      <td>0.66</td>\n",
       "      <td>6</td>\n",
       "      <td>134</td>\n",
       "      <td>8</td>\n",
       "      <td>0</td>\n",
       "      <td>0</td>\n",
       "      <td>0</td>\n",
       "      <td>1</td>\n",
       "      <td>0</td>\n",
       "      <td>0</td>\n",
       "      <td>0</td>\n",
       "      <td>0</td>\n",
       "      <td>0</td>\n",
       "      <td>0</td>\n",
       "      <td>0</td>\n",
       "      <td>0</td>\n",
       "      <td>0</td>\n",
       "      <td>0</td>\n",
       "    </tr>\n",
       "    <tr>\n",
       "      <th>1</th>\n",
       "      <td>0.81</td>\n",
       "      <td>0.92</td>\n",
       "      <td>5</td>\n",
       "      <td>258</td>\n",
       "      <td>3</td>\n",
       "      <td>0</td>\n",
       "      <td>1</td>\n",
       "      <td>0</td>\n",
       "      <td>0</td>\n",
       "      <td>0</td>\n",
       "      <td>0</td>\n",
       "      <td>0</td>\n",
       "      <td>0</td>\n",
       "      <td>0</td>\n",
       "      <td>1</td>\n",
       "      <td>0</td>\n",
       "      <td>0</td>\n",
       "      <td>0</td>\n",
       "      <td>1</td>\n",
       "    </tr>\n",
       "    <tr>\n",
       "      <th>2</th>\n",
       "      <td>0.50</td>\n",
       "      <td>0.81</td>\n",
       "      <td>3</td>\n",
       "      <td>148</td>\n",
       "      <td>2</td>\n",
       "      <td>0</td>\n",
       "      <td>0</td>\n",
       "      <td>0</td>\n",
       "      <td>0</td>\n",
       "      <td>0</td>\n",
       "      <td>0</td>\n",
       "      <td>0</td>\n",
       "      <td>0</td>\n",
       "      <td>0</td>\n",
       "      <td>1</td>\n",
       "      <td>0</td>\n",
       "      <td>0</td>\n",
       "      <td>1</td>\n",
       "      <td>0</td>\n",
       "    </tr>\n",
       "    <tr>\n",
       "      <th>3</th>\n",
       "      <td>0.64</td>\n",
       "      <td>0.60</td>\n",
       "      <td>3</td>\n",
       "      <td>135</td>\n",
       "      <td>3</td>\n",
       "      <td>0</td>\n",
       "      <td>0</td>\n",
       "      <td>0</td>\n",
       "      <td>1</td>\n",
       "      <td>0</td>\n",
       "      <td>0</td>\n",
       "      <td>0</td>\n",
       "      <td>0</td>\n",
       "      <td>0</td>\n",
       "      <td>0</td>\n",
       "      <td>0</td>\n",
       "      <td>0</td>\n",
       "      <td>1</td>\n",
       "      <td>0</td>\n",
       "    </tr>\n",
       "    <tr>\n",
       "      <th>4</th>\n",
       "      <td>0.59</td>\n",
       "      <td>0.47</td>\n",
       "      <td>5</td>\n",
       "      <td>191</td>\n",
       "      <td>3</td>\n",
       "      <td>0</td>\n",
       "      <td>0</td>\n",
       "      <td>0</td>\n",
       "      <td>1</td>\n",
       "      <td>0</td>\n",
       "      <td>0</td>\n",
       "      <td>0</td>\n",
       "      <td>0</td>\n",
       "      <td>0</td>\n",
       "      <td>0</td>\n",
       "      <td>0</td>\n",
       "      <td>0</td>\n",
       "      <td>1</td>\n",
       "      <td>0</td>\n",
       "    </tr>\n",
       "  </tbody>\n",
       "</table>\n",
       "</div>"
      ],
      "text/plain": [
       "   satisfaction_level  last_evaluation  number_project  average_montly_hours  \\\n",
       "0                0.44             0.66               6                   134   \n",
       "1                0.81             0.92               5                   258   \n",
       "2                0.50             0.81               3                   148   \n",
       "3                0.64             0.60               3                   135   \n",
       "4                0.59             0.47               5                   191   \n",
       "\n",
       "   time_spend_company  Work_accident  promotion_last_5years  left  \\\n",
       "0                   8              0                      0     0   \n",
       "1                   3              0                      1     0   \n",
       "2                   2              0                      0     0   \n",
       "3                   3              0                      0     0   \n",
       "4                   3              0                      0     0   \n",
       "\n",
       "   Department_RandD  Department_accounting  Department_hr  \\\n",
       "0                 1                      0              0   \n",
       "1                 0                      0              0   \n",
       "2                 0                      0              0   \n",
       "3                 1                      0              0   \n",
       "4                 1                      0              0   \n",
       "\n",
       "   Department_management  Department_marketing  Department_product_mng  \\\n",
       "0                      0                     0                       0   \n",
       "1                      0                     0                       0   \n",
       "2                      0                     0                       0   \n",
       "3                      0                     0                       0   \n",
       "4                      0                     0                       0   \n",
       "\n",
       "   Department_sales  Department_support  Department_technical  salary_low  \\\n",
       "0                 0                   0                     0           0   \n",
       "1                 1                   0                     0           0   \n",
       "2                 1                   0                     0           1   \n",
       "3                 0                   0                     0           1   \n",
       "4                 0                   0                     0           1   \n",
       "\n",
       "   salary_medium  \n",
       "0              0  \n",
       "1              1  \n",
       "2              0  \n",
       "3              0  \n",
       "4              0  "
      ]
     },
     "execution_count": 39,
     "metadata": {},
     "output_type": "execute_result"
    }
   ],
   "source": [
    "df.head()"
   ]
  },
  {
   "cell_type": "code",
   "execution_count": 65,
   "id": "5db7ab86",
   "metadata": {},
   "outputs": [],
   "source": [
    "y = df['left'] # target variable\n",
    "x = df.drop('left',axis=1) # all independent variables"
   ]
  },
  {
   "cell_type": "code",
   "execution_count": 66,
   "id": "7b93e7c5",
   "metadata": {},
   "outputs": [],
   "source": [
    "x_train,x_test,y_train,y_test = train_test_split(x,y,test_size=0.25,random_state=10,stratify=y)"
   ]
  },
  {
   "cell_type": "code",
   "execution_count": 67,
   "id": "ab9b890c",
   "metadata": {},
   "outputs": [
    {
     "name": "stdout",
     "output_type": "stream",
     "text": [
      "(5325, 18)\n",
      "(1776, 18)\n",
      "(5325,)\n",
      "(1776,)\n"
     ]
    }
   ],
   "source": [
    "print(x_train.shape)\n",
    "print(x_test.shape)\n",
    "print(y_train.shape)\n",
    "print(y_test.shape)"
   ]
  },
  {
   "cell_type": "code",
   "execution_count": 68,
   "id": "61aed196",
   "metadata": {},
   "outputs": [
    {
     "data": {
      "text/plain": [
       "0    0.502911\n",
       "1    0.497089\n",
       "Name: left, dtype: float64"
      ]
     },
     "execution_count": 68,
     "metadata": {},
     "output_type": "execute_result"
    }
   ],
   "source": [
    "y_train.value_counts(normalize=True)"
   ]
  },
  {
   "cell_type": "code",
   "execution_count": 69,
   "id": "f3fbaeba",
   "metadata": {},
   "outputs": [
    {
     "data": {
      "text/plain": [
       "0    0.502815\n",
       "1    0.497185\n",
       "Name: left, dtype: float64"
      ]
     },
     "execution_count": 69,
     "metadata": {},
     "output_type": "execute_result"
    }
   ],
   "source": [
    "y_test.value_counts(normalize=True)"
   ]
  },
  {
   "cell_type": "code",
   "execution_count": 58,
   "id": "85baad55",
   "metadata": {},
   "outputs": [],
   "source": [
    "logreg = LogisticRegression(solver= 'liblinear')"
   ]
  },
  {
   "cell_type": "code",
   "execution_count": 59,
   "id": "72319ff7",
   "metadata": {},
   "outputs": [
    {
     "data": {
      "text/plain": [
       "LogisticRegression(solver='liblinear')"
      ]
     },
     "execution_count": 59,
     "metadata": {},
     "output_type": "execute_result"
    }
   ],
   "source": [
    "logreg.fit(x_train,y_train)"
   ]
  },
  {
   "cell_type": "code",
   "execution_count": 60,
   "id": "026fe34a",
   "metadata": {},
   "outputs": [],
   "source": [
    "ypred  = logreg.predict(x_test) # Predicted values"
   ]
  },
  {
   "cell_type": "code",
   "execution_count": 61,
   "id": "f72cec02",
   "metadata": {},
   "outputs": [
    {
     "data": {
      "text/plain": [
       "array([1, 0, 1, ..., 0, 0, 1], dtype=int64)"
      ]
     },
     "execution_count": 61,
     "metadata": {},
     "output_type": "execute_result"
    }
   ],
   "source": [
    "ypred # Predicted values"
   ]
  },
  {
   "cell_type": "code",
   "execution_count": null,
   "id": "66d43562",
   "metadata": {},
   "outputs": [],
   "source": [
    "y_test # Actual values"
   ]
  },
  {
   "cell_type": "code",
   "execution_count": 71,
   "id": "3b3ab6ad",
   "metadata": {},
   "outputs": [],
   "source": [
    "from sklearn.metrics import confusion_matrix\n",
    "from sklearn.metrics import accuracy_scorei   "
   ]
  },
  {
   "cell_type": "code",
   "execution_count": 77,
   "id": "bdffad36",
   "metadata": {},
   "outputs": [
    {
     "data": {
      "text/plain": [
       "array([[657, 236],\n",
       "       [168, 715]], dtype=int64)"
      ]
     },
     "execution_count": 77,
     "metadata": {},
     "output_type": "execute_result"
    }
   ],
   "source": [
    "confusion_matrix(y_test,ypred)"
   ]
  },
  {
   "cell_type": "code",
   "execution_count": 82,
   "id": "776bf75f",
   "metadata": {},
   "outputs": [
    {
     "data": {
      "text/html": [
       "<div>\n",
       "<style scoped>\n",
       "    .dataframe tbody tr th:only-of-type {\n",
       "        vertical-align: middle;\n",
       "    }\n",
       "\n",
       "    .dataframe tbody tr th {\n",
       "        vertical-align: top;\n",
       "    }\n",
       "\n",
       "    .dataframe thead th {\n",
       "        text-align: right;\n",
       "    }\n",
       "</style>\n",
       "<table border=\"1\" class=\"dataframe\">\n",
       "  <thead>\n",
       "    <tr style=\"text-align: right;\">\n",
       "      <th></th>\n",
       "      <th>left</th>\n",
       "      <th>pred</th>\n",
       "    </tr>\n",
       "  </thead>\n",
       "  <tbody>\n",
       "    <tr>\n",
       "      <th>5285</th>\n",
       "      <td>1</td>\n",
       "      <td>1</td>\n",
       "    </tr>\n",
       "    <tr>\n",
       "      <th>5041</th>\n",
       "      <td>1</td>\n",
       "      <td>0</td>\n",
       "    </tr>\n",
       "    <tr>\n",
       "      <th>4040</th>\n",
       "      <td>1</td>\n",
       "      <td>1</td>\n",
       "    </tr>\n",
       "    <tr>\n",
       "      <th>1888</th>\n",
       "      <td>0</td>\n",
       "      <td>1</td>\n",
       "    </tr>\n",
       "    <tr>\n",
       "      <th>2729</th>\n",
       "      <td>0</td>\n",
       "      <td>1</td>\n",
       "    </tr>\n",
       "    <tr>\n",
       "      <th>...</th>\n",
       "      <td>...</td>\n",
       "      <td>...</td>\n",
       "    </tr>\n",
       "    <tr>\n",
       "      <th>4476</th>\n",
       "      <td>1</td>\n",
       "      <td>0</td>\n",
       "    </tr>\n",
       "    <tr>\n",
       "      <th>4486</th>\n",
       "      <td>1</td>\n",
       "      <td>1</td>\n",
       "    </tr>\n",
       "    <tr>\n",
       "      <th>1270</th>\n",
       "      <td>0</td>\n",
       "      <td>0</td>\n",
       "    </tr>\n",
       "    <tr>\n",
       "      <th>1267</th>\n",
       "      <td>0</td>\n",
       "      <td>0</td>\n",
       "    </tr>\n",
       "    <tr>\n",
       "      <th>985</th>\n",
       "      <td>0</td>\n",
       "      <td>1</td>\n",
       "    </tr>\n",
       "  </tbody>\n",
       "</table>\n",
       "<p>1776 rows × 2 columns</p>\n",
       "</div>"
      ],
      "text/plain": [
       "      left  pred\n",
       "5285     1     1\n",
       "5041     1     0\n",
       "4040     1     1\n",
       "1888     0     1\n",
       "2729     0     1\n",
       "...    ...   ...\n",
       "4476     1     0\n",
       "4486     1     1\n",
       "1270     0     0\n",
       "1267     0     0\n",
       "985      0     1\n",
       "\n",
       "[1776 rows x 2 columns]"
      ]
     },
     "execution_count": 82,
     "metadata": {},
     "output_type": "execute_result"
    }
   ],
   "source": [
    "test1 = pd.DataFrame(y_test)\n",
    "test1['pred'] = ypred\n",
    "test1"
   ]
  },
  {
   "cell_type": "code",
   "execution_count": 83,
   "id": "2931d532",
   "metadata": {},
   "outputs": [
    {
     "data": {
      "text/plain": [
       "657"
      ]
     },
     "execution_count": 83,
     "metadata": {},
     "output_type": "execute_result"
    }
   ],
   "source": [
    "test1.query(\"left==0 & pred==0\").shape[0]  # True Negative"
   ]
  },
  {
   "cell_type": "code",
   "execution_count": 84,
   "id": "9f180e69",
   "metadata": {},
   "outputs": [
    {
     "data": {
      "text/plain": [
       "715"
      ]
     },
     "execution_count": 84,
     "metadata": {},
     "output_type": "execute_result"
    }
   ],
   "source": [
    "test1.query(\"left==1 & pred==1\").shape[0] # True Positive"
   ]
  },
  {
   "cell_type": "code",
   "execution_count": 85,
   "id": "2f5e1236",
   "metadata": {},
   "outputs": [
    {
     "data": {
      "text/plain": [
       "236"
      ]
     },
     "execution_count": 85,
     "metadata": {},
     "output_type": "execute_result"
    }
   ],
   "source": [
    "test1.query(\"left==0 & pred==1\").shape[0] # false positive"
   ]
  },
  {
   "cell_type": "code",
   "execution_count": 89,
   "id": "5c5a33eb",
   "metadata": {},
   "outputs": [
    {
     "data": {
      "text/plain": [
       "168"
      ]
     },
     "execution_count": 89,
     "metadata": {},
     "output_type": "execute_result"
    }
   ],
   "source": [
    "test1.query(\"left==1 & pred==0\").shape[0] # false negative"
   ]
  },
  {
   "cell_type": "code",
   "execution_count": 90,
   "id": "135b5d62",
   "metadata": {},
   "outputs": [
    {
     "data": {
      "text/plain": [
       "0.7725225225225225"
      ]
     },
     "execution_count": 90,
     "metadata": {},
     "output_type": "execute_result"
    }
   ],
   "source": [
    "accuracy_score(y_test,ypred)"
   ]
  },
  {
   "cell_type": "code",
   "execution_count": 91,
   "id": "d516fde1",
   "metadata": {},
   "outputs": [],
   "source": [
    "from sklearn.metrics import precision_score,recall_score"
   ]
  },
  {
   "cell_type": "code",
   "execution_count": 92,
   "id": "fd5836ce",
   "metadata": {},
   "outputs": [
    {
     "data": {
      "text/plain": [
       "0.7518401682439537"
      ]
     },
     "execution_count": 92,
     "metadata": {},
     "output_type": "execute_result"
    }
   ],
   "source": [
    "precision_score(y_test,ypred)"
   ]
  },
  {
   "cell_type": "code",
   "execution_count": 93,
   "id": "1e82d435",
   "metadata": {},
   "outputs": [
    {
     "data": {
      "text/plain": [
       "0.8097395243488109"
      ]
     },
     "execution_count": 93,
     "metadata": {},
     "output_type": "execute_result"
    }
   ],
   "source": [
    "recall_score(y_test,ypred)"
   ]
  },
  {
   "cell_type": "code",
   "execution_count": 95,
   "id": "1b7ae033",
   "metadata": {},
   "outputs": [],
   "source": [
    "from sklearn.metrics import roc_curve,roc_auc_score"
   ]
  },
  {
   "cell_type": "code",
   "execution_count": 96,
   "id": "aaec5fd3",
   "metadata": {},
   "outputs": [],
   "source": [
    "fpr,tpr,thresholds =  roc_curve(y_test,ypred)"
   ]
  },
  {
   "cell_type": "code",
   "execution_count": null,
   "id": "6bf92590",
   "metadata": {},
   "outputs": [],
   "source": []
  },
  {
   "cell_type": "code",
   "execution_count": 102,
   "id": "a8169347",
   "metadata": {},
   "outputs": [
    {
     "data": {
      "text/plain": [
       "Text(0, 0.5, 'True positive rate')"
      ]
     },
     "execution_count": 102,
     "metadata": {},
     "output_type": "execute_result"
    },
    {
     "data": {
      "image/png": "[encoded data removed]",
      "text/plain": [
       "<Figure size 432x288 with 1 Axes>"
      ]
     },
     "metadata": {
      "needs_background": "light"
     },
     "output_type": "display_data"
    }
   ],
   "source": [
    "plt.plot(fpr,tpr)\n",
    "#plt.plot(np.arange(0,1.1,0.1),np.arange(0,1.1,0.1))\n",
    "plt.title(\"Reciever Operating Characteristics curve\")\n",
    "plt.xlabel(\"False positive rate\")\n",
    "plt.ylabel(\"True positive rate\")"
   ]
  },
  {
   "cell_type": "code",
   "execution_count": 103,
   "id": "1f5770a0",
   "metadata": {},
   "outputs": [
    {
     "data": {
      "text/plain": [
       "0.7727309043916507"
      ]
     },
     "execution_count": 103,
     "metadata": {},
     "output_type": "execute_result"
    }
   ],
   "source": [
    "# ROC-AUC score\n",
    "roc_auc_score(y_test,ypred)"
   ]
  },
  {
   "cell_type": "code",
   "execution_count": 104,
   "id": "3bb08cff",
   "metadata": {},
   "outputs": [],
   "source": [
    "from sklearn.model_selection import KFold\n",
    "from sklearn.model_selection import cross_val_score"
   ]
  },
  {
   "cell_type": "code",
   "execution_count": 109,
   "id": "a553d560",
   "metadata": {},
   "outputs": [
    {
     "data": {
      "text/plain": [
       "0.6453996887730322"
      ]
     },
     "execution_count": 109,
     "metadata": {},
     "output_type": "execute_result"
    }
   ],
   "source": [
    "kf = KFold(n_splits=5)\n",
    "scores = cross_val_score(logreg,x,y,cv=kf,scoring='accuracy')\n",
    "scores.mean()"
   ]
  },
  {
   "cell_type": "code",
   "execution_count": 120,
   "id": "ea3064ad",
   "metadata": {},
   "outputs": [],
   "source": [
    "# task 1\n",
    "df = pd.read_csv(\"hrdata1.csv\")"
   ]
  },
  {
   "cell_type": "code",
   "execution_count": 121,
   "id": "2d929b0b",
   "metadata": {},
   "outputs": [
    {
     "name": "stdout",
     "output_type": "stream",
     "text": [
      "<class 'pandas.core.frame.DataFrame'>\n",
      "RangeIndex: 1470 entries, 0 to 1469\n",
      "Data columns (total 24 columns):\n",
      " #   Column                   Non-Null Count  Dtype \n",
      "---  ------                   --------------  ----- \n",
      " 0   EmployeeCount            1470 non-null   int64 \n",
      " 1   EmployeeID               1470 non-null   int64 \n",
      " 2   Department               1470 non-null   object\n",
      " 3   JobRole                  1470 non-null   object\n",
      " 4   Attrition                1470 non-null   object\n",
      " 5   Gender                   1470 non-null   object\n",
      " 6   Age                      1470 non-null   int64 \n",
      " 7   MaritalStatus            1470 non-null   object\n",
      " 8   Education                1470 non-null   object\n",
      " 9   EducationField           1470 non-null   object\n",
      " 10  BusinessTravel           1470 non-null   object\n",
      " 11  JobInvolvement           1470 non-null   object\n",
      " 12  JobLevel                 1470 non-null   int64 \n",
      " 13  JobSatisfaction          1470 non-null   object\n",
      " 14  Hourlyrate               1470 non-null   int64 \n",
      " 15  Income                   1470 non-null   int64 \n",
      " 16  Salaryhike               1470 non-null   int64 \n",
      " 17  OverTime                 1470 non-null   object\n",
      " 18  Workex                   1470 non-null   int64 \n",
      " 19  YearsSinceLastPromotion  1470 non-null   int64 \n",
      " 20  EmpSatisfaction          1470 non-null   object\n",
      " 21  TrainingTimesLastYear    1470 non-null   int64 \n",
      " 22  WorkLifeBalance          1470 non-null   object\n",
      " 23  Performance_Rating       1470 non-null   object\n",
      "dtypes: int64(10), object(14)\n",
      "memory usage: 275.8+ KB\n"
     ]
    }
   ],
   "source": [
    "df.info()"
   ]
  },
  {
   "cell_type": "code",
   "execution_count": null,
   "id": "de18b44d",
   "metadata": {},
   "outputs": [],
   "source": []
  }
 ],
 "metadata": {
  "kernelspec": {
   "display_name": "Python 3",
   "language": "python",
   "name": "python3"
  },
  "language_info": {
   "codemirror_mode": {
    "name": "ipython",
    "version": 3
   },
   "file_extension": ".py",
   "mimetype": "text/x-python",
   "name": "python",
   "nbconvert_exporter": "python",
   "pygments_lexer": "ipython3",
   "version": "3.8.8"
  }
 },
 "nbformat": 4,
 "nbformat_minor": 5
}
